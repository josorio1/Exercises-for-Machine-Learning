{
 "cells": [
  {
   "cell_type": "markdown",
   "metadata": {},
   "source": [
    "# Counterfeit detection"
   ]
  },
  {
   "cell_type": "markdown",
   "metadata": {},
   "source": [
    "The task in this assignment is to detect the  counterfeit banknotes. The data set is based on [banknote authentication Data Set ](https://archive.ics.uci.edu/ml/datasets/banknote+authentication#) from UCI Machine Learning repository. The first three columns denote different parameters obtained from the photographs of the banknotes and last colum provides the label. Frankly as the dataset does not have any description I don't know  which labels corresponds to real and which to counterfeited banknotes. let's assume that label one (positive) denotes the clounterfeits. The set  \"banknote_authentication.csv\" can be found in the data  directory."
   ]
  },
  {
   "cell_type": "code",
   "execution_count": 1,
   "metadata": {},
   "outputs": [],
   "source": [
    "import pandas as pd\n",
    "import numpy as np\n",
    "import matplotlib.pyplot as plt\n",
    "import scipy.stats as st\n",
    "import sys\n",
    "sys.path.append(\"../../\")"
   ]
  },
  {
   "cell_type": "code",
   "execution_count": 2,
   "metadata": {},
   "outputs": [],
   "source": [
    "data = pd.read_csv('banknote_authentication.csv')"
   ]
  },
  {
   "cell_type": "code",
   "execution_count": 3,
   "metadata": {},
   "outputs": [
    {
     "data": {
      "text/html": [
       "<div>\n",
       "<style scoped>\n",
       "    .dataframe tbody tr th:only-of-type {\n",
       "        vertical-align: middle;\n",
       "    }\n",
       "\n",
       "    .dataframe tbody tr th {\n",
       "        vertical-align: top;\n",
       "    }\n",
       "\n",
       "    .dataframe thead th {\n",
       "        text-align: right;\n",
       "    }\n",
       "</style>\n",
       "<table border=\"1\" class=\"dataframe\">\n",
       "  <thead>\n",
       "    <tr style=\"text-align: right;\">\n",
       "      <th></th>\n",
       "      <th>a1</th>\n",
       "      <th>a2</th>\n",
       "      <th>a3</th>\n",
       "      <th>counterfeit</th>\n",
       "    </tr>\n",
       "  </thead>\n",
       "  <tbody>\n",
       "    <tr>\n",
       "      <th>0</th>\n",
       "      <td>12.3784</td>\n",
       "      <td>0.70403</td>\n",
       "      <td>-7.58360</td>\n",
       "      <td>0</td>\n",
       "    </tr>\n",
       "    <tr>\n",
       "      <th>1</th>\n",
       "      <td>8.1881</td>\n",
       "      <td>-3.13380</td>\n",
       "      <td>-2.52760</td>\n",
       "      <td>0</td>\n",
       "    </tr>\n",
       "    <tr>\n",
       "      <th>2</th>\n",
       "      <td>-10.8679</td>\n",
       "      <td>9.49260</td>\n",
       "      <td>-1.41160</td>\n",
       "      <td>1</td>\n",
       "    </tr>\n",
       "    <tr>\n",
       "      <th>3</th>\n",
       "      <td>-8.7903</td>\n",
       "      <td>7.97350</td>\n",
       "      <td>-0.45475</td>\n",
       "      <td>1</td>\n",
       "    </tr>\n",
       "    <tr>\n",
       "      <th>4</th>\n",
       "      <td>-5.5167</td>\n",
       "      <td>10.93900</td>\n",
       "      <td>-0.40820</td>\n",
       "      <td>1</td>\n",
       "    </tr>\n",
       "  </tbody>\n",
       "</table>\n",
       "</div>"
      ],
      "text/plain": [
       "        a1        a2       a3  counterfeit\n",
       "0  12.3784   0.70403 -7.58360            0\n",
       "1   8.1881  -3.13380 -2.52760            0\n",
       "2 -10.8679   9.49260 -1.41160            1\n",
       "3  -8.7903   7.97350 -0.45475            1\n",
       "4  -5.5167  10.93900 -0.40820            1"
      ]
     },
     "execution_count": 3,
     "metadata": {},
     "output_type": "execute_result"
    }
   ],
   "source": [
    "data.head()"
   ]
  },
  {
   "cell_type": "markdown",
   "metadata": {},
   "source": [
    "## Problem "
   ]
  },
  {
   "cell_type": "markdown",
   "metadata": {},
   "source": [
    "### A."
   ]
  },
  {
   "cell_type": "markdown",
   "metadata": {},
   "source": [
    "Perform the Quadratic Discriminant Analysis on this set. Calculate the confusion matrix, AUC score and plot the ROC curve. "
   ]
  },
  {
   "cell_type": "markdown",
   "metadata": {},
   "source": [
    "First of all, we split the data:"
   ]
  },
  {
   "cell_type": "code",
   "execution_count": 4,
   "metadata": {},
   "outputs": [],
   "source": [
    "from sklearn.discriminant_analysis import QuadraticDiscriminantAnalysis\n",
    "from sklearn.model_selection import train_test_split\n",
    "from sklearn.metrics import confusion_matrix\n",
    "from sklearn.metrics import plot_confusion_matrix\n",
    "from sklearn.metrics import precision_score, f1_score\n",
    "from sklearn.metrics import roc_auc_score, roc_curve\n",
    "\n",
    "\n",
    "features = data[['a1','a2','a3']]\n",
    "labels = data['counterfeit']\n",
    "\n",
    "\n",
    "train_data, test_data, train_labels, test_labels = train_test_split(features,labels, test_size=0.2)"
   ]
  },
  {
   "cell_type": "markdown",
   "metadata": {},
   "source": [
    "Secondly, we copy the function 'analize' from the previous exercise:"
   ]
  },
  {
   "cell_type": "code",
   "execution_count": 5,
   "metadata": {},
   "outputs": [],
   "source": [
    "def analize(cls, name, train_data, train_labels, test_data, test_labels):\n",
    "    classifier = cls\n",
    "    classifier.fit(train_data,train_labels)\n",
    "    test_predicted = classifier.predict(test_data)\n",
    "    test_pred_prob= classifier.predict_proba(test_data) #remember that this gives two columns\n",
    "    fprs, tprs, thds  = roc_curve(test_labels, test_pred_prob[:,1],pos_label = 1)  \n",
    "    tnr, fpr, fnr, tpr = confusion_matrix(test_labels, test_predicted,normalize='pred').ravel()\n",
    "    auc = roc_auc_score(test_labels, test_pred_prob[:,1])\n",
    "    return  pd.DataFrame({'TNR':[tnr],\n",
    "                          'FNR':[fpr],\n",
    "                          'FPR':[fnr],\n",
    "                          'TPR':[tpr],\n",
    "                          'Precision' : [precision_score(test_labels, test_predicted, average='macro')],\n",
    "                          'F1' :[f1_score(test_labels, test_predicted, average='macro')],\n",
    "                          'AUC' :[auc]\n",
    "                           }, index=[name]), fprs, tprs, thds, auc"
   ]
  },
  {
   "cell_type": "markdown",
   "metadata": {},
   "source": [
    "Now we call the function for QDA anc for our dataset:"
   ]
  },
  {
   "cell_type": "code",
   "execution_count": 6,
   "metadata": {},
   "outputs": [],
   "source": [
    "qda = QuadraticDiscriminantAnalysis()\n",
    "\n",
    "df,fprs,tprs,thds,auc = analize(qda, 'QDA' , train_data, train_labels, test_data, test_labels)"
   ]
  },
  {
   "cell_type": "markdown",
   "metadata": {},
   "source": [
    "Confusion matrix, normalized and not normalized:"
   ]
  },
  {
   "cell_type": "code",
   "execution_count": 7,
   "metadata": {},
   "outputs": [
    {
     "data": {
      "image/png": "[encoded data removed]",
      "text/plain": [
       "<Figure size 432x288 with 2 Axes>"
      ]
     },
     "metadata": {
      "needs_background": "light"
     },
     "output_type": "display_data"
    },
    {
     "data": {
      "image/png": "[encoded data removed]",
      "text/plain": [
       "<Figure size 432x288 with 2 Axes>"
      ]
     },
     "metadata": {
      "needs_background": "light"
     },
     "output_type": "display_data"
    }
   ],
   "source": [
    "confusion_plot = plot_confusion_matrix(qda, test_data, test_labels,cmap=plt.cm.Blues)\n",
    "plt.title(\"Non-normalized confusion matrix\")\n",
    "plt.show()\n",
    "\n",
    "confusion_plot_normalized = plot_confusion_matrix(qda, test_data, test_labels,cmap=plt.cm.Blues, normalize='true')\n",
    "plt.title(\"Normalized true confusion matrix\")\n",
    "plt.show()"
   ]
  },
  {
   "cell_type": "markdown",
   "metadata": {},
   "source": [
    "AUC score:"
   ]
  },
  {
   "cell_type": "code",
   "execution_count": 8,
   "metadata": {},
   "outputs": [
    {
     "name": "stdout",
     "output_type": "stream",
     "text": [
      "The AUC score is 0.8792183195592287\n"
     ]
    }
   ],
   "source": [
    "print(\"The AUC score is\", auc)"
   ]
  },
  {
   "cell_type": "markdown",
   "metadata": {},
   "source": [
    "ROC curve:"
   ]
  },
  {
   "cell_type": "code",
   "execution_count": 9,
   "metadata": {},
   "outputs": [
    {
     "data": {
      "text/plain": [
       "Text(0, 0.5, 'TPR')"
      ]
     },
     "execution_count": 9,
     "metadata": {},
     "output_type": "execute_result"
    },
    {
     "data": {
      "image/png": "[encoded data removed]",
      "text/plain": [
       "<Figure size 432x288 with 1 Axes>"
      ]
     },
     "metadata": {
      "needs_background": "light"
     },
     "output_type": "display_data"
    }
   ],
   "source": [
    "plt.plot(fprs,tprs,label= \"ROC curve for QDA\" + \" (area = %0.2f)\" %float(auc))\n",
    "plt.legend()\n",
    "plt.title(\"ROC curve\")\n",
    "plt.xlabel(\"FPR\")\n",
    "plt.ylabel(\"TPR\")"
   ]
  },
  {
   "cell_type": "markdown",
   "metadata": {},
   "source": [
    "### B."
   ]
  },
  {
   "cell_type": "markdown",
   "metadata": {},
   "source": [
    "Perform Gaussian Mixture Discriminant Analysis on this set as described in the `gaussian_mixture_model_EM_algorithm` notebook. Use two components for positives and two components for negatives. Calculate the confusion matrix, AUC score and plot the ROC curve. "
   ]
  },
  {
   "cell_type": "markdown",
   "metadata": {},
   "source": [
    "First of all, we fit:"
   ]
  },
  {
   "cell_type": "code",
   "execution_count": 10,
   "metadata": {},
   "outputs": [
    {
     "data": {
      "text/plain": [
       "GaussianMixture(covariance_type='full', init_params='kmeans', max_iter=100,\n",
       "                means_init=None, n_components=2, n_init=1, precisions_init=None,\n",
       "                random_state=None, reg_covar=1e-06, tol=0.0001, verbose=0,\n",
       "                verbose_interval=10, warm_start=False, weights_init=None)"
      ]
     },
     "execution_count": 10,
     "metadata": {},
     "output_type": "execute_result"
    }
   ],
   "source": [
    "from sklearn.mixture import GaussianMixture\n",
    "\n",
    "\n",
    "\n",
    "features0_cmp = GaussianMixture(n_components=2, max_iter=100, tol=0.0001)\n",
    "features1_cmp = GaussianMixture(n_components=2, max_iter=100, tol=0.0001)\n",
    "\n",
    "features0 = train_data[train_labels==0]\n",
    "features1 = train_data[train_labels==1]\n",
    "\n",
    "features0_cmp.fit(features0)\n",
    "features1_cmp.fit(features1)"
   ]
  },
  {
   "cell_type": "markdown",
   "metadata": {},
   "source": [
    "We copy the functions given in the notebook:"
   ]
  },
  {
   "cell_type": "code",
   "execution_count": 11,
   "metadata": {},
   "outputs": [],
   "source": [
    "def make_pdf(cmp):\n",
    "    \"\"\"\n",
    "    Takes a GaussianMixture object and returns corresponding\n",
    "    probability distribution function\n",
    "    \"\"\"\n",
    "    n_cmp = cmp.n_components\n",
    "    dists = [st.multivariate_normal(cmp.means_[i], cmp.covariances_[i]) for i in range(n_cmp)]\n",
    "    def pdf(x):\n",
    "        p = 0.0\n",
    "        for i in range(n_cmp):\n",
    "            p+= cmp.weights_[i]*dists[i].pdf(x)\n",
    "        return p\n",
    "    \n",
    "    return pdf\n",
    "\n",
    "\n",
    "def make_predict_proba(cmp0, cmp1, pi0=0.5, pi1=.5):\n",
    "    \"\"\"\n",
    "    Takes two GaussianMixture object and corresponding priors and returns \n",
    "    pdf for conditional probability P(c=1|x)\n",
    "    \"\"\"\n",
    "    pdf0 = make_pdf(cmp0)\n",
    "    pdf1 = make_pdf(cmp1)\n",
    "    def p(x):\n",
    "        p0=pi0*pdf0(x)\n",
    "        p1=pi1*pdf1(x)\n",
    "        return p1/(p1+p0)    \n",
    "        \n",
    "    return p"
   ]
  },
  {
   "cell_type": "markdown",
   "metadata": {},
   "source": [
    "And now we can apply them to our data. Since *plot_confusion_matrix* requires to add the classifier as a variable, in this case I will use the package seaborn to plot it. The values to be plotted are obtained with the *confusion_matrix* function from sklearn. For the AUC score and the ROC curve we can use the lines we have used before (of course, variables need to be changed):"
   ]
  },
  {
   "cell_type": "code",
   "execution_count": 12,
   "metadata": {},
   "outputs": [
    {
     "data": {
      "image/png": "[encoded data removed]",
      "text/plain": [
       "<Figure size 432x288 with 2 Axes>"
      ]
     },
     "metadata": {
      "needs_background": "light"
     },
     "output_type": "display_data"
    },
    {
     "data": {
      "image/png": "[encoded data removed]",
      "text/plain": [
       "<Figure size 432x288 with 1 Axes>"
      ]
     },
     "metadata": {
      "needs_background": "light"
     },
     "output_type": "display_data"
    },
    {
     "name": "stdout",
     "output_type": "stream",
     "text": [
      "The AUC score is: 0.9555785123966941\n"
     ]
    }
   ],
   "source": [
    "import seaborn as sns\n",
    "\n",
    "\n",
    "\n",
    "\n",
    "mgd_predict_proba = make_predict_proba(features0_cmp, features1_cmp, 0.5, 0.5)\n",
    "mgd_proba = mgd_predict_proba(test_data)\n",
    "cm = confusion_matrix(test_labels, mgd_proba>0.5, normalize='true')\n",
    "plt.title(\"Normalized true confusion matrix\")\n",
    "f = sns.heatmap(cm, cmap=plt.cm.Blues,annot=True)\n",
    "plt.xlabel(\"Predicted labels\")\n",
    "plt.ylabel(\"True labels\")\n",
    "plt.show()\n",
    "\n",
    "\n",
    "\n",
    "fprs_gauss, tprs_gauss, thds_gauss  = roc_curve(test_labels, mgd_proba,pos_label = 1)  \n",
    "auc_gauss = roc_auc_score(test_labels,mgd_proba)\n",
    "plt.plot(fprs_gauss,tprs_gauss,label= \"ROC curve for GM\" + \" (area = %0.2f)\" %float(auc_gauss))   \n",
    "\n",
    "    \n",
    "plt.legend()\n",
    "plt.title(\"ROC curve\")\n",
    "plt.xlabel(\"FPR\")\n",
    "plt.ylabel(\"TPR\")\n",
    "plt.show()\n",
    "\n",
    "print(\"The AUC score is:\", auc_gauss)"
   ]
  },
  {
   "cell_type": "markdown",
   "metadata": {},
   "source": [
    "As we should have expected, the AUC score is better than for QDA."
   ]
  },
  {
   "cell_type": "markdown",
   "metadata": {},
   "source": [
    "### C."
   ]
  },
  {
   "cell_type": "markdown",
   "metadata": {},
   "source": [
    "Use k-fold cross validation to find the optimal number of gaussian components for each class. As before calculate the confusion matrix, AUC score and plot the ROC curve for the best classifier. "
   ]
  },
  {
   "cell_type": "markdown",
   "metadata": {},
   "source": [
    "I will define two functions: one for creating two mixtures with a certain number of components, and another one that performs the cross validation on two given mixtures and returns the average f1_score. "
   ]
  },
  {
   "cell_type": "code",
   "execution_count": 13,
   "metadata": {},
   "outputs": [],
   "source": [
    "from sklearn.model_selection import StratifiedKFold\n",
    "from sklearn.metrics import f1_score\n",
    "\n",
    "\n",
    "def mixture_maker(components_0,components_1):\n",
    "    x0_cmp = GaussianMixture(n_components=components_0, max_iter=100, tol=0.0001)\n",
    "    x1_cmp = GaussianMixture(n_components=components_1, max_iter=100, tol=0.0001)\n",
    "    \n",
    "    return x0_cmp,x1_cmp\n",
    "\n",
    "def k_fold_preparator(splits,x0_cmp,x1_cmp):\n",
    "  f1 = 0\n",
    "  skf = StratifiedKFold(n_splits= splits) #returned folds will be the same\n",
    "    \n",
    "  for train_index, test_index in skf.split(features,labels): #loop that runs for each fold\n",
    "        x_train, x_test = features.iloc[train_index],features.iloc[test_index] #separation of train and test\n",
    "        y_train, y_test = labels.iloc[train_index],labels.iloc[test_index]\n",
    "\n",
    "        x0 = x_train[y_train==0] #separation of classes\n",
    "        x1 = x_train[y_train==1]\n",
    "\n",
    "        x0_cmp.fit(x0)\n",
    "        x1_cmp.fit(x1)\n",
    "        \n",
    "        mgd_predict_proba_2 = make_predict_proba(x0_cmp, x1_cmp, 0.5, 0.5)\n",
    "        mgd_proba_2 = mgd_predict_proba_2(x_test)\n",
    "        f1 += f1_score(y_test, mgd_proba_2>0.5, average='macro') #we add all and then we return the average\n",
    "        \n",
    "  return f1/splits      \n",
    "        \n",
    "         "
   ]
  },
  {
   "cell_type": "markdown",
   "metadata": {},
   "source": [
    "Here we prepare all the possible combinations of components. The limit is 5 components:"
   ]
  },
  {
   "cell_type": "code",
   "execution_count": 14,
   "metadata": {},
   "outputs": [],
   "source": [
    "mixture_combinations= []\n",
    "\n",
    "for i in range(1,6): \n",
    "    for j in range(1,6):\n",
    "         x0_cmp,x1_cmp = mixture_maker(i,j)\n",
    "         mixture_combinations.append([x0_cmp,x1_cmp])\n",
    "            \n",
    "\n",
    "    "
   ]
  },
  {
   "cell_type": "markdown",
   "metadata": {},
   "source": [
    "Now that we have all possible combinations inside a list, we can run the function that returns their f1_scores and choose which one is the best. The number of splits will be ten."
   ]
  },
  {
   "cell_type": "code",
   "execution_count": 15,
   "metadata": {},
   "outputs": [],
   "source": [
    "f1s = []\n",
    "for k in range(len(mixture_combinations)):\n",
    "    f1_average = k_fold_preparator(10,mixture_combinations[k][0],mixture_combinations[k][1])\n",
    "    f1s.append(f1_average)\n",
    "    \n",
    "  "
   ]
  },
  {
   "cell_type": "code",
   "execution_count": 16,
   "metadata": {},
   "outputs": [
    {
     "name": "stdout",
     "output_type": "stream",
     "text": [
      "The best F1 score was 0.9354251334694175\n",
      "Number of components for class 0: 4\n",
      "Number of components for class 1: 4\n"
     ]
    }
   ],
   "source": [
    "print(\"The best F1 score was\", f1s[np.argmax(f1s)])  \n",
    "print(\"Number of components for class 0:\", np.argmax(f1s) // 5) #If this part is confusing,\n",
    "                                                                #please have at look at how mixture_combinations is built\n",
    "print(\"Number of components for class 1:\", np.argmax(f1s) % 5)\n"
   ]
  },
  {
   "cell_type": "markdown",
   "metadata": {},
   "source": [
    "Now that we know which combination is the best, we can calculate the confusion matrix, AUC score and plot the ROC curve:"
   ]
  },
  {
   "cell_type": "code",
   "execution_count": 17,
   "metadata": {},
   "outputs": [
    {
     "data": {
      "image/png": "[encoded data removed]",
      "text/plain": [
       "<Figure size 432x288 with 2 Axes>"
      ]
     },
     "metadata": {
      "needs_background": "light"
     },
     "output_type": "display_data"
    },
    {
     "data": {
      "image/png": "[encoded data removed]",
      "text/plain": [
       "<Figure size 432x288 with 1 Axes>"
      ]
     },
     "metadata": {
      "needs_background": "light"
     },
     "output_type": "display_data"
    },
    {
     "name": "stdout",
     "output_type": "stream",
     "text": [
      "The AUC score is: 0.9819214876033058\n"
     ]
    }
   ],
   "source": [
    "features0_cmp_new = GaussianMixture(n_components=np.argmax(f1s) // 5, max_iter=100, tol=0.0001)\n",
    "features1_cmp_new = GaussianMixture(n_components=np.argmax(f1s) % 5, max_iter=100, tol=0.0001)\n",
    "\n",
    "features0_cmp_new.fit(features0)\n",
    "features1_cmp_new.fit(features1)\n",
    "\n",
    "\n",
    "mgd_predict_proba_new = make_predict_proba(features0_cmp_new, features1_cmp_new, 0.5, 0.5)\n",
    "mgd_proba_new = mgd_predict_proba_new(test_data)\n",
    "cm_new = confusion_matrix(test_labels, mgd_proba_new>0.5, normalize='true')\n",
    "plt.title(\"Normalized true confusion matrix\")\n",
    "f = sns.heatmap(cm_new, cmap=plt.cm.Blues,annot=True)\n",
    "plt.xlabel(\"Predicted labels\")\n",
    "plt.ylabel(\"True labels\")\n",
    "plt.show()\n",
    "\n",
    "\n",
    "\n",
    "fprs_new, tprs_new, thds_new  = roc_curve(test_labels, mgd_proba_new,pos_label = 1)  \n",
    "auc_new = roc_auc_score(test_labels,mgd_proba_new)\n",
    "    \n",
    "plt.plot(fprs_new,tprs_new,label= \"ROC curve for best GM\" + \" (area = %0.2f)\" %float(auc_new))\n",
    "plt.legend()\n",
    "plt.title(\"ROC curve\")\n",
    "plt.xlabel(\"FPR\")\n",
    "plt.ylabel(\"TPR\")\n",
    "plt.show()\n",
    "\n",
    "print(\"The AUC score is:\", auc_new)"
   ]
  },
  {
   "cell_type": "markdown",
   "metadata": {},
   "source": [
    "__Hint__ use the `StratifiedKFold` function from scikit-learn library to generate folds. "
   ]
  },
  {
   "cell_type": "markdown",
   "metadata": {},
   "source": [
    "I will plot the three ROC curves for comparison:"
   ]
  },
  {
   "cell_type": "markdown",
   "metadata": {},
   "source": [
    "## D.  "
   ]
  },
  {
   "cell_type": "markdown",
   "metadata": {},
   "source": [
    "Assume that 1% of all the customers in your store presents a counterfeit 100PLN bill. If you accept the counterfeit bill you loose 100PLN. If you reject a valid bill,  you may loose the purchase, you estimate this loss as 15PLN on average. For each of the three classifiers find the threshold that minimises your losses and calculates the minimum loss for each classifier. Show the optimal classifiers points on the ROC curves."
   ]
  },
  {
   "cell_type": "markdown",
   "metadata": {},
   "source": [
    "I guess that the function that we have to minimize is the following:\n",
    "\n",
    "$Losses = 100*FN + 15*FP$\n",
    "\n",
    "We know that FN + TP amounts to 0.01 of the bills, and TN + FP to 0.99. If we calculate the rates for each classifier, we can know which percentage of the total will be classified as FN,TP,TN AND FP:\n",
    "\n",
    "$FN = 0.01*FNR$ \n",
    "\n",
    "$TP = 0.01*TPR$ \n",
    "\n",
    "$TN = 0.99*TNR$ \n",
    "\n",
    "$FP = 0.99*FPR$ \n",
    "\n",
    "Since we have already calculated  FNR = 1-TPR, FPR and thresholds in the previous exercises, what we can do is run a loop that goes all over them and calculate the losses. \n",
    "\n",
    "Please, bear in mind that FN, TP, TN and FP is given as a percentage of the total.\n",
    "\n",
    "\n"
   ]
  },
  {
   "cell_type": "code",
   "execution_count": 18,
   "metadata": {},
   "outputs": [],
   "source": [
    "def losses(loss_not_accept,loss_accept,per_counter,per_true,fprs,tprs,thds):\n",
    "    loss= loss_not_accept*fprs*per_true + loss_accept*(1-tprs)*per_counter\n",
    "    return loss, thds\n",
    "\n",
    "def losses_minimizer(loss_not_accept,loss_accept,per_counter,per_true,fprs_list,tprs_list,thds_list):\n",
    "    loss_min = 0\n",
    "    thds_min = 0\n",
    "    Pass=True\n",
    "   \n",
    "    for i in range(len(fprs_list)):\n",
    "        loss,thds = losses(loss_not_accept,loss_accept,per_counter,per_true,fprs_list[i],tprs_list[i],thds_list[i])\n",
    "        if loss < loss_min or Pass == True:\n",
    "            Pass = False\n",
    "            loss_min = loss\n",
    "            thds_min = thds\n",
    "            \n",
    "            \n",
    "    return loss_min,thds_min     "
   ]
  },
  {
   "cell_type": "code",
   "execution_count": 19,
   "metadata": {},
   "outputs": [
    {
     "name": "stdout",
     "output_type": "stream",
     "text": [
      "For QDA, the minimum loss per banknote is 0.8977272727272727 with a threshold of 0.9766165654332428\n",
      "For Gauss, the minimum loss per banknote is 0.3636363636363637 with a threshold of 0.9262468394680106\n",
      "For the best Gauss, the minimum loss per banknote is 0.31818181818181823 with a threshold of 0.9686933982496163\n"
     ]
    }
   ],
   "source": [
    "loss_min_qda,thds_min_qda = losses_minimizer(15,100,0.01,0.99,fprs,tprs,thds)\n",
    "loss_min_gauss,thds_min_gauss = losses_minimizer(15,100,0.01,0.99,fprs_gauss,tprs_gauss,thds_gauss)\n",
    "loss_min_new,thds_min_new = losses_minimizer(15,100,0.01,0.99,fprs_new,tprs_new,thds_new)\n",
    "                                             \n",
    "print(\"For QDA, the minimum loss per banknote is\", loss_min_qda, \"with a threshold of\" , thds_min_qda)\n",
    "print(\"For Gauss, the minimum loss per banknote is\", loss_min_gauss, \"with a threshold of\" , thds_min_gauss)\n",
    "print(\"For the best Gauss, the minimum loss per banknote is\", loss_min_new, \"with a threshold of\" , thds_min_new)\n",
    "\n"
   ]
  },
  {
   "cell_type": "markdown",
   "metadata": {},
   "source": [
    "The result makes more sense if we compare it with a penalty of 1PLN for not taking the banknote:"
   ]
  },
  {
   "cell_type": "code",
   "execution_count": 20,
   "metadata": {},
   "outputs": [
    {
     "name": "stdout",
     "output_type": "stream",
     "text": [
      "For QDA, the minimum loss per banknote is 0.30454545454545456 with a threshold of 0.25856507588672417\n",
      "For Gauss, the minimum loss per banknote is 0.2152272727272727 with a threshold of 0.6172421210092456\n",
      "For the best Gauss, the minimum loss per banknote is 0.14363636363636365 with a threshold of 0.8260528612184743\n"
     ]
    }
   ],
   "source": [
    "loss_min_qda_2,thds_min_qda_2= losses_minimizer(1,100,0.01,0.99,fprs,tprs,thds)\n",
    "loss_min_gauss_2,thds_min_gauss_2 = losses_minimizer(1,100,0.01,0.99,fprs_gauss,tprs_gauss,thds_gauss)\n",
    "loss_min_new_2,thds_min_new_2 = losses_minimizer(1,100,0.01,0.99,fprs_new,tprs_new,thds_new)\n",
    "                                             \n",
    "print(\"For QDA, the minimum loss per banknote is\", loss_min_qda_2, \"with a threshold of\" , thds_min_qda_2)\n",
    "print(\"For Gauss, the minimum loss per banknote is\", loss_min_gauss_2, \"with a threshold of\" , thds_min_gauss_2)\n",
    "print(\"For the best Gauss, the minimum loss per banknote is\", loss_min_new_2, \"with a threshold of\" , thds_min_new_2)\n"
   ]
  },
  {
   "cell_type": "markdown",
   "metadata": {},
   "source": [
    "As we can see, the thresholds drops when the penalty for not accepting the banknote is reduced. Since we don't lose barely any money, it is better to decline the bill even if the probability of it being counterfeit is smaller. If we take the example for 0PLN, we can see that the threshold actually goes to a minimum."
   ]
  },
  {
   "cell_type": "markdown",
   "metadata": {},
   "source": [
    "Let's now plot the optimal points on the ROC curves:"
   ]
  },
  {
   "cell_type": "code",
   "execution_count": 21,
   "metadata": {},
   "outputs": [
    {
     "data": {
      "image/png": "[encoded data removed]",
      "text/plain": [
       "<Figure size 432x288 with 1 Axes>"
      ]
     },
     "metadata": {
      "needs_background": "light"
     },
     "output_type": "display_data"
    }
   ],
   "source": [
    "plt.plot(fprs,tprs,label= \"ROC curve for QDA\" + \" (area = %0.2f)\" %float(auc))\n",
    "plt.plot(fprs_gauss,tprs_gauss,label= \"ROC curve for GM\" + \" (area = %0.2f)\" %float(auc_gauss))\n",
    "plt.plot(fprs_new,tprs_new,label= \"ROC curve for best GM\" + \" (area = %0.2f)\" %float(auc_new))\n",
    "plt.plot(fprs[thds == thds_min_qda],tprs[thds == thds_min_qda],'.',markersize=10,\n",
    "         label= \"Optimal point for QDA\" + \" (Threshold = %0.2f)\" %float(thds_min_qda))\n",
    "plt.plot(fprs_gauss[thds_gauss == thds_min_gauss],tprs_gauss[thds_gauss == thds_min_gauss],'.',markersize=10,\n",
    "         label= \"Optimal point for GM\" + \" (Threshold = %0.2f)\" %float(thds_min_gauss))\n",
    "plt.plot(fprs_new[thds_new == thds_min_new],tprs_new[thds_new == thds_min_new],'.',markersize=10,\n",
    "         label= \"Optimal point for best GM\" + \" (Threshold = %0.2f)\" %float(thds_min_new))\n",
    "\n",
    "plt.legend()\n",
    "plt.title(\"ROC curve with point of loss minimization\")\n",
    "plt.xlabel(\"FPR\")\n",
    "plt.ylabel(\"TPR\")\n",
    "plt.show()\n"
   ]
  },
  {
   "cell_type": "markdown",
   "metadata": {},
   "source": [
    "If we have a look at the plot, ot is clear that the bigger the TPR and the smaller the FPR, the better, which makes total sense if we have a look at the loss function."
   ]
  },
  {
   "cell_type": "code",
   "execution_count": null,
   "metadata": {},
   "outputs": [],
   "source": []
  }
 ],
 "metadata": {
  "jupytext": {
   "text_representation": {
    "extension": ".Rmd",
    "format_name": "rmarkdown",
    "format_version": "1.2",
    "jupytext_version": "1.4.1"
   }
  },
  "kernelspec": {
   "display_name": "Python 3",
   "language": "python",
   "name": "python3"
  },
  "language_info": {
   "codemirror_mode": {
    "name": "ipython",
    "version": 3
   },
   "file_extension": ".py",
   "mimetype": "text/x-python",
   "name": "python",
   "nbconvert_exporter": "python",
   "pygments_lexer": "ipython3",
   "version": "3.7.3"
  }
 },
 "nbformat": 4,
 "nbformat_minor": 4
}
