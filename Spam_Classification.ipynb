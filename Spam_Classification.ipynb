{
 "cells": [
  {
   "cell_type": "markdown",
   "metadata": {},
   "source": [
    "# Spam/ham classification"
   ]
  },
  {
   "cell_type": "markdown",
   "metadata": {},
   "source": [
    "In this assignment you will train a classifier to recognise spam emails. The data was taken from this [enron spam](https://www.kaggle.com/wanderfj/enron-spam)  kaggle dataset. The dataset is described [here](https://www.researchgate.net/publication/221650814_Spam_Filtering_with_Naive_Bayes_-_Which_Naive_Bayes). This will familiarize you with tools  for text analysis  from  the scikit-learn library. \n",
    "\n",
    "The data is provided as a zip archive \"enron_spam.zip\". You can unpack it with command `unzip enron_spam.zip` which will create a directory `data`. "
   ]
  },
  {
   "cell_type": "markdown",
   "metadata": {},
   "source": [
    "The data  consists of 6 batches of emails. Each batch corresponds to different person and different spam source. Each batch is stored in different subdirectory of `data` named `Enron_1` to `Enron_6`. Each email is stored in separate file :( Spam and ham emails are stored in different subdirectories. Fortunatelly the scikit-learn library provides a functiona `load_files` that can read data in this format. "
   ]
  },
  {
   "cell_type": "code",
   "execution_count": 1,
   "metadata": {},
   "outputs": [],
   "source": [
    "from sklearn.datasets import load_files"
   ]
  },
  {
   "cell_type": "code",
   "execution_count": 2,
   "metadata": {},
   "outputs": [],
   "source": [
    "import zipfile as zf \n",
    "files = zf.ZipFile(\"enron_spam.zip\", 'r') \n",
    "files.extractall('data') \n",
    "files.close()"
   ]
  },
  {
   "cell_type": "markdown",
   "metadata": {},
   "source": [
    "You can load data from given batch using the function"
   ]
  },
  {
   "cell_type": "code",
   "execution_count": 3,
   "metadata": {},
   "outputs": [],
   "source": [
    "data1 = load_files('data/data/Enron_1/', encoding='latin-1', shuffle=True, categories=['ham', 'spam'] )"
   ]
  },
  {
   "cell_type": "markdown",
   "metadata": {},
   "source": [
    "It returns a python dictionary. The entry 'data' contains the data from files and the entry 'target' contains the labels assigned according to the subdirectory names. The labels are integers and corresponding names can be found in the entry 'target_names'."
   ]
  },
  {
   "cell_type": "markdown",
   "metadata": {},
   "source": [
    "## Problems "
   ]
  },
  {
   "cell_type": "markdown",
   "metadata": {},
   "source": [
    "1. Train the multinomial bayes classifier using scikit-learn  for the first batch of data in data/Enron_1 as described in text_analysis notebook.\n",
    "    1. Set asside 20% of data for testings and train the multinomial bayes classifier using the remaining 80% of data.This requires  transforming the data to feature vectors using CountVectoriser  from scikit-learn. How big is the resulting vocabulary ? \n",
    "    1. Using the test set \n",
    "        1. Draw the confusion matrix using `plot_confusion_matrix` from scikit-learn (see the latest update of the text_analysis notebook) using the test set. \n",
    "        1. Calculate recall and precision scores. \n",
    "        1. Draw the ROC curve and calculate the AUC score  using the test set. \n",
    "        1. What percentage of valid mails is classified as spam?\n",
    "        1. Assuming that only mails classified as ham are put in our mailbox what percentage of mail in our inbox is spam?\n",
    "        \n",
    "    1. Find ten most probable and least probable words for each class.     \n",
    "    1. Check the classifier on the remaining datasets data/Enron_2-6. For each set calculate recall and precision. \n",
    "    1. Combine all sets.  Train a new classifier on the combined  set, of course after dividing into test and train sets. Redo point B. using this classifier and combined test set. \n",
    "    1. Assumimg that we want to keep the frequency of misclassified ham mails belowe 5 per mile, what would be the percentage of spam in our inbox?\n",
    "   "
   ]
  },
  {
   "cell_type": "markdown",
   "metadata": {},
   "source": [
    "__Hint__ You can create a dataframe from the data using"
   ]
  },
  {
   "cell_type": "markdown",
   "metadata": {},
   "source": [
    "## EXERCISE A"
   ]
  },
  {
   "cell_type": "code",
   "execution_count": 4,
   "metadata": {},
   "outputs": [],
   "source": [
    "import pandas as pd\n",
    "df1 = pd.DataFrame({'text': data1['data'], 'spam': data1['target']})"
   ]
  },
  {
   "cell_type": "markdown",
   "metadata": {},
   "source": [
    "Here we split:"
   ]
  },
  {
   "cell_type": "code",
   "execution_count": 5,
   "metadata": {},
   "outputs": [],
   "source": [
    "from sklearn.model_selection import train_test_split\n",
    "\n",
    "\n",
    "train_data, test_data, train_labels, test_labels = train_test_split(df1['text'], df1['spam'], test_size=0.2)"
   ]
  },
  {
   "cell_type": "code",
   "execution_count": 6,
   "metadata": {},
   "outputs": [
    {
     "name": "stdout",
     "output_type": "stream",
     "text": [
      "3309\n"
     ]
    }
   ],
   "source": [
    "print(len(train_data))"
   ]
  },
  {
   "cell_type": "code",
   "execution_count": 7,
   "metadata": {},
   "outputs": [
    {
     "data": {
      "text/plain": [
       "MultinomialNB(alpha=1.0, class_prior=None, fit_prior=True)"
      ]
     },
     "execution_count": 7,
     "metadata": {},
     "output_type": "execute_result"
    }
   ],
   "source": [
    "from sklearn.feature_extraction.text import CountVectorizer\n",
    "from sklearn.naive_bayes import MultinomialNB\n",
    "\n",
    "\n",
    "vectorizer = CountVectorizer(stop_words='english')\n",
    "features = vectorizer.fit_transform(train_data)\n",
    "base_rating_classifier = MultinomialNB()\n",
    "base_rating_classifier.fit(features, train_labels)\n"
   ]
  },
  {
   "cell_type": "markdown",
   "metadata": {},
   "source": [
    "We can calculate it using the shape of vectorizer or checking the length of vectorizer.get_feature_names():"
   ]
  },
  {
   "cell_type": "code",
   "execution_count": 8,
   "metadata": {},
   "outputs": [
    {
     "name": "stdout",
     "output_type": "stream",
     "text": [
      "Size of vocabulary: 38980\n",
      "Size of vocabulary: 38980\n"
     ]
    }
   ],
   "source": [
    "vectorizer.get_feature_names()\n",
    "print(\"Size of vocabulary:\",features.shape[1])\n",
    "print(\"Size of vocabulary:\",len(vectorizer.get_feature_names()))"
   ]
  },
  {
   "cell_type": "markdown",
   "metadata": {},
   "source": [
    "## EXERCISE B"
   ]
  },
  {
   "cell_type": "markdown",
   "metadata": {},
   "source": [
    "## A)"
   ]
  },
  {
   "cell_type": "markdown",
   "metadata": {},
   "source": [
    "We transform the test dataset and predict:"
   ]
  },
  {
   "cell_type": "code",
   "execution_count": 9,
   "metadata": {},
   "outputs": [],
   "source": [
    "features_test = vectorizer.transform(test_data)\n",
    "test_predicted =  base_rating_classifier.predict(features_test)\n",
    "\n"
   ]
  },
  {
   "cell_type": "markdown",
   "metadata": {},
   "source": [
    "Printed values of confusion matrix, not normalized, normalized all (the four possible values sum 1) and normalized true (true label=1 sums 1 and true label=0 sums 1)"
   ]
  },
  {
   "cell_type": "code",
   "execution_count": 10,
   "metadata": {},
   "outputs": [
    {
     "name": "stdout",
     "output_type": "stream",
     "text": [
      "Not normalized:\n",
      "[[585  11]\n",
      " [ 16 216]]\n",
      "Normalized all:\n",
      "[[0.70652174 0.01328502]\n",
      " [0.01932367 0.26086957]]\n",
      "Normalized true:\n",
      "[[0.98154362 0.01845638]\n",
      " [0.06896552 0.93103448]]\n"
     ]
    }
   ],
   "source": [
    "from sklearn.metrics import confusion_matrix\n",
    "from sklearn.metrics import plot_confusion_matrix\n",
    "import matplotlib.pyplot as plt\n",
    "\n",
    "confusion_m = confusion_matrix(test_labels, test_predicted)\n",
    "confusion_m_a = confusion_matrix(test_labels, test_predicted, normalize = 'all')\n",
    "confusion_m_t = confusion_matrix(test_labels, test_predicted, normalize = 'true')\n",
    "print(\"Not normalized:\")\n",
    "print(confusion_m)\n",
    "print(\"Normalized all:\")\n",
    "print(confusion_m_a)\n",
    "print(\"Normalized true:\")\n",
    "print(confusion_m_t)"
   ]
  },
  {
   "cell_type": "markdown",
   "metadata": {},
   "source": [
    "And now we have the same, but nicely plotted:"
   ]
  },
  {
   "cell_type": "code",
   "execution_count": 11,
   "metadata": {},
   "outputs": [
    {
     "data": {
      "image/png": "[encoded data removed]",
      "text/plain": [
       "<Figure size 432x288 with 2 Axes>"
      ]
     },
     "metadata": {
      "needs_background": "light"
     },
     "output_type": "display_data"
    }
   ],
   "source": [
    "confusion_plot = plot_confusion_matrix(base_rating_classifier, features_test, test_labels,cmap=plt.cm.Blues)\n",
    "plt.title(\"Non-normalized confusion matrix\")\n",
    "plt.show()"
   ]
  },
  {
   "cell_type": "code",
   "execution_count": 12,
   "metadata": {},
   "outputs": [
    {
     "data": {
      "image/png": "[encoded data removed]",
      "text/plain": [
       "<Figure size 432x288 with 2 Axes>"
      ]
     },
     "metadata": {
      "needs_background": "light"
     },
     "output_type": "display_data"
    }
   ],
   "source": [
    "confusion_plot = plot_confusion_matrix(base_rating_classifier, features_test, test_labels,cmap=plt.cm.Blues, normalize='all')\n",
    "plt.title(\"Normalized all confusion matrix\")\n",
    "plt.show()"
   ]
  },
  {
   "cell_type": "code",
   "execution_count": 13,
   "metadata": {},
   "outputs": [
    {
     "data": {
      "image/png": "[encoded data removed]",
      "text/plain": [
       "<Figure size 432x288 with 2 Axes>"
      ]
     },
     "metadata": {
      "needs_background": "light"
     },
     "output_type": "display_data"
    }
   ],
   "source": [
    "confusion_plot = plot_confusion_matrix(base_rating_classifier, features_test, test_labels,cmap=plt.cm.Blues, normalize='true')\n",
    "plt.title(\"Normalized true confusion matrix\")\n",
    "plt.show()"
   ]
  },
  {
   "cell_type": "markdown",
   "metadata": {},
   "source": [
    "And we can check that the printed values of confusion_m's are the same as the plotted, as it should be."
   ]
  },
  {
   "cell_type": "markdown",
   "metadata": {},
   "source": [
    "## B)"
   ]
  },
  {
   "cell_type": "code",
   "execution_count": 14,
   "metadata": {},
   "outputs": [
    {
     "name": "stdout",
     "output_type": "stream",
     "text": [
      "Recall score: 0.9562890534598473\n",
      "Precision score 0.9624597770236096\n"
     ]
    }
   ],
   "source": [
    "\n",
    "from sklearn.metrics import precision_score, recall_score\n",
    "\n",
    "recall = recall_score(test_labels, test_predicted, average='macro') #ability of the classifier to find all the positive samples\n",
    "precision = precision_score(test_labels, test_predicted, average='macro') #ability of the classifier not to label as positive a sample that is negative\n",
    "print(\"Recall score:\", recall)\n",
    "print(\"Precision score\",precision)"
   ]
  },
  {
   "cell_type": "markdown",
   "metadata": {},
   "source": [
    "We have pretty nice results."
   ]
  },
  {
   "cell_type": "markdown",
   "metadata": {},
   "source": [
    "## C)"
   ]
  },
  {
   "cell_type": "markdown",
   "metadata": {},
   "source": [
    "We must the probabilities of the predictions. predict_proba returns an array of two columns. The first one is the probability of being a 0 and the second one is the probability of being a 1."
   ]
  },
  {
   "cell_type": "code",
   "execution_count": 15,
   "metadata": {},
   "outputs": [
    {
     "name": "stdout",
     "output_type": "stream",
     "text": [
      "Thresholds: [2.00000000e+000 1.00000000e+000 1.00000000e+000 1.00000000e+000\n",
      " 1.00000000e+000 1.00000000e+000 9.99999998e-001 9.99999998e-001\n",
      " 9.99958153e-001 9.99955117e-001 9.99923698e-001 9.99908800e-001\n",
      " 9.98915156e-001 9.98413406e-001 9.98331891e-001 9.97916886e-001\n",
      " 9.95594986e-001 9.93592554e-001 9.11554265e-001 8.48851691e-001\n",
      " 3.95644377e-001 3.68644305e-001 3.33672223e-001 2.52721624e-001\n",
      " 1.88573060e-001 1.57942253e-001 3.69467326e-002 7.17760428e-003\n",
      " 4.10230515e-003 1.39820461e-004 8.73226239e-005 2.26637467e-005\n",
      " 1.81084958e-005 1.30129842e-019 1.19320848e-019 1.75621351e-022\n",
      " 1.37524945e-022 5.41506814e-032 5.10088338e-032 3.00680053e-033\n",
      " 1.82750062e-033 7.86283725e-136 5.49393504e-136 3.25058509e-151\n",
      " 1.12369584e-152 1.62547597e-321 0.00000000e+000]\n",
      "AUC: 0.9932018051376996\n"
     ]
    }
   ],
   "source": [
    "from sklearn.metrics import roc_auc_score, roc_curve\n",
    "\n",
    "test_predicted_proba =  base_rating_classifier.predict_proba(features_test)\n",
    "fprs, tprs, thds = roc_curve(test_labels, test_predicted_proba[:,1]) #we pick the probability of being 1\n",
    "auc = roc_auc_score(test_labels, test_predicted_proba[:,1])\n",
    "print(\"Thresholds:\",thds)\n",
    "print(\"AUC:\",auc)"
   ]
  },
  {
   "cell_type": "code",
   "execution_count": 16,
   "metadata": {},
   "outputs": [
    {
     "data": {
      "image/png": "[encoded data removed]",
      "text/plain": [
       "<Figure size 432x288 with 1 Axes>"
      ]
     },
     "metadata": {
      "needs_background": "light"
     },
     "output_type": "display_data"
    }
   ],
   "source": [
    "plt.plot(fprs,tprs,label= \"ROC curve (area = %0.2f)\" % auc)\n",
    "plt.legend()\n",
    "plt.title(\"ROC curve\")\n",
    "plt.show()"
   ]
  },
  {
   "cell_type": "markdown",
   "metadata": {},
   "source": [
    "## D)"
   ]
  },
  {
   "cell_type": "markdown",
   "metadata": {},
   "source": [
    "We could do this from scratch, dividing the valid emails categorized as spam by the total number of valid emails:"
   ]
  },
  {
   "cell_type": "code",
   "execution_count": 17,
   "metadata": {},
   "outputs": [
    {
     "name": "stdout",
     "output_type": "stream",
     "text": [
      "Total real valid emails 596\n",
      "Valid emails counted as spam 11\n",
      "Percentage: 0.018456375838926176\n"
     ]
    }
   ],
   "source": [
    "count_spam = 0\n",
    "count_valid = 0\n",
    "for i in range(len(test_predicted)):\n",
    "    if test_labels.tolist()[i] == 0:\n",
    "        count_valid += 1\n",
    "        if test_predicted.tolist()[i] == 1:\n",
    "         count_spam += 1\n",
    "print(\"Total real valid emails\",count_valid)        \n",
    "print(\"Valid emails counted as spam\",count_spam)\n",
    "print(\"Percentage:\",count_spam/count_valid)\n",
    "    \n",
    "    "
   ]
  },
  {
   "cell_type": "markdown",
   "metadata": {},
   "source": [
    "Or we could use np.count_nonzero. I don't think the line requires much explanation:"
   ]
  },
  {
   "cell_type": "code",
   "execution_count": 18,
   "metadata": {},
   "outputs": [
    {
     "name": "stdout",
     "output_type": "stream",
     "text": [
      "Percentage: 0.018456375838926176\n"
     ]
    }
   ],
   "source": [
    "import numpy as np\n",
    "count_ = np.count_nonzero(test_predicted - test_labels == 1)/np.count_nonzero(test_labels == 0)\n",
    "print(\"Percentage:\",count_)"
   ]
  },
  {
   "cell_type": "markdown",
   "metadata": {},
   "source": [
    "## E)"
   ]
  },
  {
   "cell_type": "markdown",
   "metadata": {},
   "source": [
    "In the code from scratch, we would just have to swap test_predicted and test_labels:"
   ]
  },
  {
   "cell_type": "code",
   "execution_count": 19,
   "metadata": {},
   "outputs": [
    {
     "name": "stdout",
     "output_type": "stream",
     "text": [
      "Total predicted valid emails 601\n",
      "Predicted valid emails that are actually spam 16\n",
      "Percentage: 0.026622296173044926\n"
     ]
    }
   ],
   "source": [
    "count_spam_3 = 0\n",
    "count_valid_3 = 0\n",
    "for i in range(len(test_predicted)):\n",
    "    if test_predicted.tolist()[i] == 0:\n",
    "        count_valid_3 += 1\n",
    "        if test_labels.tolist()[i] == 1:\n",
    "         count_spam_3 += 1\n",
    "print(\"Total predicted valid emails\",count_valid_3)        \n",
    "print(\"Predicted valid emails that are actually spam\",count_spam_3)\n",
    "print(\"Percentage:\",count_spam_3/count_valid_3)\n",
    "    "
   ]
  },
  {
   "cell_type": "markdown",
   "metadata": {},
   "source": [
    "Using count_nonzero, we have to swap again test_labels and test_predicted"
   ]
  },
  {
   "cell_type": "code",
   "execution_count": 20,
   "metadata": {},
   "outputs": [
    {
     "name": "stdout",
     "output_type": "stream",
     "text": [
      "Percentage: 0.026622296173044926\n"
     ]
    }
   ],
   "source": [
    "import numpy as np\n",
    "count_2 = np.count_nonzero(test_labels - test_predicted == 1)/np.count_nonzero(test_predicted == 0)\n",
    "print(\"Percentage:\",count_2)"
   ]
  },
  {
   "cell_type": "markdown",
   "metadata": {},
   "source": [
    "## EXERCISE C"
   ]
  },
  {
   "cell_type": "markdown",
   "metadata": {},
   "source": [
    "We can calculate the log-probability of a word given a class. In this case, we have two possible classes (0 and 1), so if we use feature_log_prob_, we should expect two lists."
   ]
  },
  {
   "cell_type": "code",
   "execution_count": 21,
   "metadata": {},
   "outputs": [],
   "source": [
    "log_prob = base_rating_classifier.feature_log_prob_\n",
    "\n",
    "\n",
    "\n",
    "\n"
   ]
  },
  {
   "cell_type": "markdown",
   "metadata": {},
   "source": [
    "Now we need to know to which word corresponds each probability. For this, we use get_feature_names(). We only need to know the words for some elements, so we can define the following function:\n",
    "\n"
   ]
  },
  {
   "cell_type": "code",
   "execution_count": 22,
   "metadata": {},
   "outputs": [],
   "source": [
    "def word(i):\n",
    "    return vectorizer.get_feature_names()[i]\n",
    "\n"
   ]
  },
  {
   "cell_type": "markdown",
   "metadata": {},
   "source": [
    "And we need to \"vectorize\" the function:"
   ]
  },
  {
   "cell_type": "code",
   "execution_count": 23,
   "metadata": {},
   "outputs": [],
   "source": [
    "word = np.vectorize(word)"
   ]
  },
  {
   "cell_type": "markdown",
   "metadata": {},
   "source": [
    "What we can do now is sort log_prob in order to know the lowest and highest probabilities. We are interested in the position of these elements, so what we will use is np.argsort():"
   ]
  },
  {
   "cell_type": "code",
   "execution_count": 24,
   "metadata": {},
   "outputs": [],
   "source": [
    "prob_arg=np.argsort(log_prob,axis=1)"
   ]
  },
  {
   "cell_type": "markdown",
   "metadata": {},
   "source": [
    "Since argsort sorts in ascending order, the first ten elements of prob_sort_pos are the least probable, and the last ten are the most probable:"
   ]
  },
  {
   "cell_type": "code",
   "execution_count": 25,
   "metadata": {},
   "outputs": [],
   "source": [
    "least_probable = prob_arg[:,0:10]\n",
    "most_probable = prob_arg[:,-11:-1]"
   ]
  },
  {
   "cell_type": "markdown",
   "metadata": {},
   "source": [
    "And now we can use the function \"word\" we defined to obtain the most and least probable words:"
   ]
  },
  {
   "cell_type": "code",
   "execution_count": 26,
   "metadata": {},
   "outputs": [
    {
     "name": "stdout",
     "output_type": "stream",
     "text": [
      "Most probable words if ham: ['meter' 'cc' 'hpl' 'deal' 'gas' 'com' '2000' 'enron' 'subject' 'hou']\n",
      "Most probable words if  spam: ['price' 'email' 'www' 'td' 'nbsp' '00' 'company' 'font' 'com' 'http']\n",
      "Least probable words if ham: ['humiliate' 'lindberg' 'lind' 'limpid' 'limpet' 'limp' 'limotoronto'\n",
      " 'limitedd' 'limitation' 'limerick']\n",
      "Least probable words if  spam: ['requesting' 'louie' 'louise' 'sharon' 'sharma' 'sharkey' 'lounges'\n",
      " 'browne' 'brownsville' 'shapiro']\n"
     ]
    }
   ],
   "source": [
    "words_most = word(most_probable)\n",
    "words_least = word(least_probable) \n",
    "print(\"Most probable words if ham:\",words_most[0])\n",
    "print(\"Most probable words if  spam:\",words_most[1])\n",
    "print(\"Least probable words if ham:\",words_least[0])\n",
    "print(\"Least probable words if  spam:\",words_least[1])"
   ]
  },
  {
   "cell_type": "markdown",
   "metadata": {},
   "source": [
    "And using Pandas we have:"
   ]
  },
  {
   "cell_type": "code",
   "execution_count": 27,
   "metadata": {},
   "outputs": [
    {
     "data": {
      "text/html": [
       "<div>\n",
       "<style scoped>\n",
       "    .dataframe tbody tr th:only-of-type {\n",
       "        vertical-align: middle;\n",
       "    }\n",
       "\n",
       "    .dataframe tbody tr th {\n",
       "        vertical-align: top;\n",
       "    }\n",
       "\n",
       "    .dataframe thead th {\n",
       "        text-align: right;\n",
       "    }\n",
       "</style>\n",
       "<table border=\"1\" class=\"dataframe\">\n",
       "  <thead>\n",
       "    <tr style=\"text-align: right;\">\n",
       "      <th></th>\n",
       "      <th>Most probable if ham</th>\n",
       "      <th>Most probable if spam</th>\n",
       "      <th>Least probable if ham</th>\n",
       "      <th>Least probable if spam</th>\n",
       "    </tr>\n",
       "  </thead>\n",
       "  <tbody>\n",
       "    <tr>\n",
       "      <th>0</th>\n",
       "      <td>meter</td>\n",
       "      <td>price</td>\n",
       "      <td>humiliate</td>\n",
       "      <td>requesting</td>\n",
       "    </tr>\n",
       "    <tr>\n",
       "      <th>1</th>\n",
       "      <td>cc</td>\n",
       "      <td>email</td>\n",
       "      <td>lindberg</td>\n",
       "      <td>louie</td>\n",
       "    </tr>\n",
       "    <tr>\n",
       "      <th>2</th>\n",
       "      <td>hpl</td>\n",
       "      <td>www</td>\n",
       "      <td>lind</td>\n",
       "      <td>louise</td>\n",
       "    </tr>\n",
       "    <tr>\n",
       "      <th>3</th>\n",
       "      <td>deal</td>\n",
       "      <td>td</td>\n",
       "      <td>limpid</td>\n",
       "      <td>sharon</td>\n",
       "    </tr>\n",
       "    <tr>\n",
       "      <th>4</th>\n",
       "      <td>gas</td>\n",
       "      <td>nbsp</td>\n",
       "      <td>limpet</td>\n",
       "      <td>sharma</td>\n",
       "    </tr>\n",
       "    <tr>\n",
       "      <th>5</th>\n",
       "      <td>com</td>\n",
       "      <td>00</td>\n",
       "      <td>limp</td>\n",
       "      <td>sharkey</td>\n",
       "    </tr>\n",
       "    <tr>\n",
       "      <th>6</th>\n",
       "      <td>2000</td>\n",
       "      <td>company</td>\n",
       "      <td>limotoronto</td>\n",
       "      <td>lounges</td>\n",
       "    </tr>\n",
       "    <tr>\n",
       "      <th>7</th>\n",
       "      <td>enron</td>\n",
       "      <td>font</td>\n",
       "      <td>limitedd</td>\n",
       "      <td>browne</td>\n",
       "    </tr>\n",
       "    <tr>\n",
       "      <th>8</th>\n",
       "      <td>subject</td>\n",
       "      <td>com</td>\n",
       "      <td>limitation</td>\n",
       "      <td>brownsville</td>\n",
       "    </tr>\n",
       "    <tr>\n",
       "      <th>9</th>\n",
       "      <td>hou</td>\n",
       "      <td>http</td>\n",
       "      <td>limerick</td>\n",
       "      <td>shapiro</td>\n",
       "    </tr>\n",
       "  </tbody>\n",
       "</table>\n",
       "</div>"
      ],
      "text/plain": [
       "  Most probable if ham Most probable if spam Least probable if ham  \\\n",
       "0                meter                 price             humiliate   \n",
       "1                   cc                 email              lindberg   \n",
       "2                  hpl                   www                  lind   \n",
       "3                 deal                    td                limpid   \n",
       "4                  gas                  nbsp                limpet   \n",
       "5                  com                    00                  limp   \n",
       "6                 2000               company           limotoronto   \n",
       "7                enron                  font              limitedd   \n",
       "8              subject                   com            limitation   \n",
       "9                  hou                  http              limerick   \n",
       "\n",
       "  Least probable if spam  \n",
       "0             requesting  \n",
       "1                  louie  \n",
       "2                 louise  \n",
       "3                 sharon  \n",
       "4                 sharma  \n",
       "5                sharkey  \n",
       "6                lounges  \n",
       "7                 browne  \n",
       "8            brownsville  \n",
       "9                shapiro  "
      ]
     },
     "execution_count": 27,
     "metadata": {},
     "output_type": "execute_result"
    }
   ],
   "source": [
    "import pandas as pd\n",
    "pd.DataFrame({'Most probable if ham': words_most[0],\n",
    "              'Most probable if spam': words_most[1],\n",
    "              'Least probable if ham': words_least[0],\n",
    "              'Least probable if spam': words_least[1]})"
   ]
  },
  {
   "cell_type": "markdown",
   "metadata": {},
   "source": [
    "I would say taht the second one makes sense, but I don't have an opinion on the rest."
   ]
  },
  {
   "cell_type": "markdown",
   "metadata": {},
   "source": [
    "## EXERCISE D"
   ]
  },
  {
   "cell_type": "markdown",
   "metadata": {},
   "source": [
    "I will now load the data using a for loop. At the same time, in this for loop we will prepare each data set and predict its labels and scores. Apart from this, since we need all the data sets for the next exercise, I will use two lists called features_data and labels_data in which the features and labels of each data seat will be stored:"
   ]
  },
  {
   "cell_type": "code",
   "execution_count": 28,
   "metadata": {},
   "outputs": [
    {
     "name": "stdout",
     "output_type": "stream",
     "text": [
      "Recall score for the set Enron_1 : 0.97750468164794\n",
      "Precision score for the set Enron_1 : 0.9830528542561252\n",
      "Recall score for the set Enron_2 : 0.946074930253769\n",
      "Precision score for the set Enron_2 : 0.9129382813168627\n",
      "Recall score for the set Enron_3 : 0.9716649787057234\n",
      "Precision score for the set Enron_3 : 0.9514186618151812\n",
      "Recall score for the set Enron_4 : 0.9358274289154395\n",
      "Precision score for the set Enron_4 : 0.9242888701042548\n",
      "Recall score for the set Enron_5 : 0.965187074829932\n",
      "Precision score for the set Enron_5 : 0.9417860627881154\n",
      "Recall score for the set Enron_6 : 0.9623611111111111\n",
      "Precision score for the set Enron_6 : 0.9546324644543831\n"
     ]
    }
   ],
   "source": [
    "import os\n",
    "new_files = os.listdir('data/data')\n",
    "features_data=[]\n",
    "labels_data=[]\n",
    "for i in new_files:\n",
    " data_aux = load_files('data/data/' + i,encoding = 'latin-1',shuffle=True, categories =['ham','spam'])\n",
    " df_aux = pd.DataFrame({'text': data_aux['data'], 'spam': data_aux['target']})\n",
    " features_data.append(df_aux['text'])\n",
    " features_=vectorizer.transform(df_aux['text'])\n",
    " labels_ = df_aux['spam']\n",
    " labels_data.append(labels_)\n",
    " labels_predicted = base_rating_classifier.predict(features_)\n",
    " recall = recall_score(labels_, labels_predicted, average='macro')\n",
    " precision = precision_score(labels_, labels_predicted, average='macro')\n",
    " print(\"Recall score for the set\",i,\":\",recall)\n",
    " print(\"Precision score for the set\",i,\":\",precision)"
   ]
  },
  {
   "cell_type": "markdown",
   "metadata": {},
   "source": [
    "And the best score is for Enron_1, which makes sense, as it was the dataset that was used to train the classifier. However, all the scores are pretty good."
   ]
  },
  {
   "cell_type": "markdown",
   "metadata": {},
   "source": [
    "## EXERCISE E"
   ]
  },
  {
   "cell_type": "markdown",
   "metadata": {},
   "source": [
    "The datasets are fully stored in the two lists we prepared in the previous exercise. However, we need to make those lists flat, as each dataset is inside a list itself. To do so, we can use the following lines:"
   ]
  },
  {
   "cell_type": "code",
   "execution_count": 29,
   "metadata": {},
   "outputs": [],
   "source": [
    "features_total = [item for sublist in features_data for item in sublist]\n",
    "labels_total =   [item for sublist in labels_data for item in sublist]"
   ]
  },
  {
   "cell_type": "markdown",
   "metadata": {},
   "source": [
    "And now we basically copy the code from exercise B changing the variable names:"
   ]
  },
  {
   "cell_type": "code",
   "execution_count": 30,
   "metadata": {},
   "outputs": [],
   "source": [
    "train_data_total, test_data_total, train_labels_total, test_labels_total = train_test_split(features_total, labels_total, test_size=0.2)"
   ]
  },
  {
   "cell_type": "code",
   "execution_count": 31,
   "metadata": {},
   "outputs": [
    {
     "data": {
      "text/plain": [
       "MultinomialNB(alpha=1.0, class_prior=None, fit_prior=True)"
      ]
     },
     "execution_count": 31,
     "metadata": {},
     "output_type": "execute_result"
    }
   ],
   "source": [
    "vectorizer_new = CountVectorizer(stop_words='english')\n",
    "features_total_transform = vectorizer.fit_transform(train_data_total)\n",
    "base_rating_classifier_total = MultinomialNB()\n",
    "base_rating_classifier_total.fit(features_total_transform, train_labels_total)"
   ]
  },
  {
   "cell_type": "markdown",
   "metadata": {},
   "source": [
    "## A)"
   ]
  },
  {
   "cell_type": "code",
   "execution_count": 32,
   "metadata": {},
   "outputs": [],
   "source": [
    "features_test_total_transform = vectorizer.transform(test_data_total)\n",
    "test_predicted_total =  base_rating_classifier_total.predict(features_test_total_transform)"
   ]
  },
  {
   "cell_type": "markdown",
   "metadata": {},
   "source": [
    "This time I will only plot the confusion matrices:"
   ]
  },
  {
   "cell_type": "code",
   "execution_count": 33,
   "metadata": {},
   "outputs": [
    {
     "data": {
      "image/png": "[encoded data removed]",
      "text/plain": [
       "<Figure size 432x288 with 2 Axes>"
      ]
     },
     "metadata": {
      "needs_background": "light"
     },
     "output_type": "display_data"
    }
   ],
   "source": [
    "confusion_plot = plot_confusion_matrix(base_rating_classifier_total, features_test_total_transform, test_labels_total,cmap=plt.cm.Blues)\n",
    "plt.title(\"Non-normalized confusion matrix\")\n",
    "plt.show()"
   ]
  },
  {
   "cell_type": "code",
   "execution_count": 34,
   "metadata": {},
   "outputs": [
    {
     "data": {
      "image/png": "[encoded data removed]",
      "text/plain": [
       "<Figure size 432x288 with 2 Axes>"
      ]
     },
     "metadata": {
      "needs_background": "light"
     },
     "output_type": "display_data"
    }
   ],
   "source": [
    "confusion_plot = plot_confusion_matrix(base_rating_classifier_total, features_test_total_transform, test_labels_total,cmap=plt.cm.Blues, normalize='all')\n",
    "plt.title(\"Normalized all confusion matrix\")\n",
    "plt.show()"
   ]
  },
  {
   "cell_type": "code",
   "execution_count": 35,
   "metadata": {},
   "outputs": [
    {
     "data": {
      "image/png": "[encoded data removed]",
      "text/plain": [
       "<Figure size 432x288 with 2 Axes>"
      ]
     },
     "metadata": {
      "needs_background": "light"
     },
     "output_type": "display_data"
    }
   ],
   "source": [
    "confusion_plot = plot_confusion_matrix(base_rating_classifier_total, features_test_total_transform, test_labels_total,cmap=plt.cm.Blues, normalize='true')\n",
    "plt.title(\"Normalized true confusion matrix\")\n",
    "plt.show()"
   ]
  },
  {
   "cell_type": "markdown",
   "metadata": {},
   "source": [
    "## B)"
   ]
  },
  {
   "cell_type": "markdown",
   "metadata": {},
   "source": [
    "Now we check the scores:"
   ]
  },
  {
   "cell_type": "code",
   "execution_count": 36,
   "metadata": {},
   "outputs": [
    {
     "name": "stdout",
     "output_type": "stream",
     "text": [
      "Recall score: 0.9859198787353237\n",
      "Precision score 0.9858781598817727\n"
     ]
    }
   ],
   "source": [
    "recall_total = recall_score(test_labels_total, test_predicted_total, average='macro') #ability of the classifier to find all the positive samples\n",
    "precision_total = precision_score(test_labels_total, test_predicted_total, average='macro') #ability of the classifier not to label as positive a sample that is negative\n",
    "print(\"Recall score:\", recall_total)\n",
    "print(\"Precision score\",precision_total)"
   ]
  },
  {
   "cell_type": "markdown",
   "metadata": {},
   "source": [
    "And we see that we gain around 0.01 in score, which is a lot in this case."
   ]
  },
  {
   "cell_type": "markdown",
   "metadata": {},
   "source": [
    "## C)"
   ]
  },
  {
   "cell_type": "code",
   "execution_count": 37,
   "metadata": {},
   "outputs": [
    {
     "name": "stdout",
     "output_type": "stream",
     "text": [
      "Thresholds: [2.00000000e+000 1.00000000e+000 1.00000000e+000 1.00000000e+000\n",
      " 1.00000000e+000 1.00000000e+000 1.00000000e+000 1.00000000e+000\n",
      " 1.00000000e+000 1.00000000e+000 1.00000000e+000 1.00000000e+000\n",
      " 1.00000000e+000 1.00000000e+000 1.00000000e+000 1.00000000e+000\n",
      " 1.00000000e+000 1.00000000e+000 1.00000000e+000 1.00000000e+000\n",
      " 1.00000000e+000 1.00000000e+000 1.00000000e+000 1.00000000e+000\n",
      " 1.00000000e+000 1.00000000e+000 1.00000000e+000 1.00000000e+000\n",
      " 1.00000000e+000 1.00000000e+000 1.00000000e+000 1.00000000e+000\n",
      " 1.00000000e+000 1.00000000e+000 1.00000000e+000 1.00000000e+000\n",
      " 1.00000000e+000 1.00000000e+000 1.00000000e+000 1.00000000e+000\n",
      " 1.00000000e+000 1.00000000e+000 1.00000000e+000 1.00000000e+000\n",
      " 1.00000000e+000 9.99999999e-001 9.99999999e-001 9.99999998e-001\n",
      " 9.99999998e-001 9.99999998e-001 9.99999998e-001 9.99999996e-001\n",
      " 9.99999996e-001 9.99999995e-001 9.99999995e-001 9.99999995e-001\n",
      " 9.99999995e-001 9.99999969e-001 9.99999967e-001 9.99999950e-001\n",
      " 9.99999949e-001 9.99999881e-001 9.99999877e-001 9.99999832e-001\n",
      " 9.99999817e-001 9.99999123e-001 9.99999094e-001 9.99989869e-001\n",
      " 9.99989710e-001 9.99982658e-001 9.99982554e-001 9.99975820e-001\n",
      " 9.99973211e-001 9.99938578e-001 9.99929099e-001 9.99618774e-001\n",
      " 9.99582997e-001 9.98571720e-001 9.98435019e-001 9.98363300e-001\n",
      " 9.98322624e-001 9.96315018e-001 9.96279072e-001 9.95971059e-001\n",
      " 9.95761580e-001 9.93678849e-001 9.93675188e-001 9.77286942e-001\n",
      " 9.77221568e-001 9.68022533e-001 9.67453231e-001 9.52739711e-001\n",
      " 9.38315394e-001 9.35981456e-001 9.33128615e-001 9.12401962e-001\n",
      " 9.10081928e-001 8.96242867e-001 8.95736460e-001 8.95566207e-001\n",
      " 8.92696327e-001 8.67403346e-001 8.39981520e-001 6.71294895e-001\n",
      " 6.68948323e-001 6.61462767e-001 6.09234406e-001 5.99316157e-001\n",
      " 5.68342010e-001 5.66843604e-001 5.60318679e-001 5.32062888e-001\n",
      " 5.05842767e-001 4.66574636e-001 4.59498853e-001 3.73884876e-001\n",
      " 3.73242644e-001 3.59934711e-001 3.40966756e-001 3.34843358e-001\n",
      " 3.03927375e-001 2.98044249e-001 2.88823770e-001 2.42508288e-001\n",
      " 1.91595830e-001 1.61664314e-001 1.35094150e-001 1.26711026e-001\n",
      " 1.25039551e-001 1.12595012e-001 9.91291977e-002 9.59242689e-002\n",
      " 7.67071545e-002 7.06587798e-002 7.04683030e-002 6.87151355e-002\n",
      " 5.19732832e-002 4.82514589e-002 3.63821883e-002 3.05213326e-002\n",
      " 1.75516369e-002 1.66863847e-002 1.64139655e-002 1.55835595e-002\n",
      " 1.53648729e-002 1.17253870e-002 8.29838976e-003 7.49277904e-003\n",
      " 6.60690944e-003 6.30252634e-003 4.13029145e-003 3.83194014e-003\n",
      " 2.18693435e-003 2.14481613e-003 1.30913627e-003 1.19996354e-003\n",
      " 3.50999480e-004 2.66929746e-004 1.81947005e-004 1.65274586e-004\n",
      " 1.62704731e-004 1.61373268e-004 2.29426160e-005 2.16911548e-005\n",
      " 5.46038669e-016 5.43865894e-016 4.83846558e-017 4.10716601e-017\n",
      " 3.81287089e-018 3.76674479e-018 1.38249597e-019 1.27779847e-019\n",
      " 1.61074525e-020 1.55600960e-020 5.35844065e-021 4.84343648e-021\n",
      " 1.69076304e-027 1.46078157e-027 3.14068000e-036 2.90663105e-036\n",
      " 9.40363600e-037 8.80877892e-037 6.65159444e-037 6.12800579e-037\n",
      " 4.80496244e-037 4.69102126e-037 2.82861215e-037 2.70227595e-037\n",
      " 1.34720641e-037 1.34038049e-037 1.01071530e-037 1.00479868e-037\n",
      " 4.36831728e-038 4.30662857e-038 2.80990964e-038 2.70304627e-038\n",
      " 7.98344023e-040 5.64036252e-040 7.14759702e-051 7.00492449e-051\n",
      " 6.85799311e-060 6.31742801e-060 1.18645720e-060 1.00759753e-060\n",
      " 2.48495019e-063 2.10927043e-063 1.47977966e-063 1.39977092e-063\n",
      " 5.74457187e-076 5.72259696e-076 3.80758440e-080 3.46912114e-080\n",
      " 7.73967256e-098 7.49267725e-098 2.70291390e-127 1.69164678e-127\n",
      " 2.14737117e-135 1.04279295e-135 2.81737678e-153 1.75270619e-153\n",
      " 7.54553519e-183 2.57767714e-183 1.20692652e-183 1.13450443e-183\n",
      " 4.00627310e-209 1.55977014e-209 1.21862391e-250 5.43456459e-252\n",
      " 2.66301383e-321 0.00000000e+000]\n",
      "AUC: 0.9961621810469178\n"
     ]
    }
   ],
   "source": [
    "from sklearn.metrics import roc_auc_score, roc_curve\n",
    "\n",
    "test_predicted_proba_total =  base_rating_classifier_total.predict_proba(features_test_total_transform)\n",
    "fprs_t, tprs_t, thds_t = roc_curve(test_labels_total, test_predicted_proba_total[:,1]) #we pick the probability of being 1\n",
    "auc_t = roc_auc_score(test_labels_total, test_predicted_proba_total[:,1])\n",
    "print(\"Thresholds:\",thds_t)\n",
    "print(\"AUC:\",auc_t)"
   ]
  },
  {
   "cell_type": "markdown",
   "metadata": {},
   "source": [
    "And we see that the AUC is actually worse this time. However, we can see that the difference is in the fourt decimal. I would guess that\n",
    "if we took different trainsets and calculate the AUC average, the one with the complete dataset would be better."
   ]
  },
  {
   "cell_type": "code",
   "execution_count": 38,
   "metadata": {},
   "outputs": [
    {
     "data": {
      "image/png": "[encoded data removed]",
      "text/plain": [
       "<Figure size 432x288 with 1 Axes>"
      ]
     },
     "metadata": {
      "needs_background": "light"
     },
     "output_type": "display_data"
    }
   ],
   "source": [
    "plt.plot(fprs_t,tprs_t,label= \"ROC curve (area = %0.2f)\" % auc)\n",
    "plt.legend()\n",
    "plt.title(\"ROC curve\")\n",
    "plt.show()"
   ]
  },
  {
   "cell_type": "markdown",
   "metadata": {},
   "source": [
    "## D)"
   ]
  },
  {
   "cell_type": "code",
   "execution_count": 39,
   "metadata": {},
   "outputs": [
    {
     "name": "stdout",
     "output_type": "stream",
     "text": [
      "Total real valid emails 2617\n",
      "Valid emails counted as spam 36\n",
      "Percentage: 0.013756209400076424\n"
     ]
    }
   ],
   "source": [
    "count_spam_t = 0\n",
    "count_valid_t = 0\n",
    "for i in range(len(test_predicted_total)):\n",
    "    if test_labels_total[i] == 0:\n",
    "        count_valid_t += 1\n",
    "        if test_predicted_total[i] == 1:\n",
    "         count_spam_t += 1\n",
    "print(\"Total real valid emails\",count_valid_t)        \n",
    "print(\"Valid emails counted as spam\",count_spam_t)\n",
    "print(\"Percentage:\",count_spam_t/count_valid_t)\n",
    "    "
   ]
  },
  {
   "cell_type": "markdown",
   "metadata": {},
   "source": [
    "With count_nonzero:"
   ]
  },
  {
   "cell_type": "code",
   "execution_count": 54,
   "metadata": {},
   "outputs": [
    {
     "name": "stdout",
     "output_type": "stream",
     "text": [
      "Percentage: 0.013756209400076424\n"
     ]
    }
   ],
   "source": [
    "import numpy as np\n",
    "count_t = np.count_nonzero(test_predicted_total - test_labels_total == 1)/np.count_nonzero(np.array(test_labels_total) == 0)\n",
    "print(\"Percentage:\",count_t)"
   ]
  },
  {
   "cell_type": "markdown",
   "metadata": {},
   "source": [
    "## E)"
   ]
  },
  {
   "cell_type": "code",
   "execution_count": 55,
   "metadata": {},
   "outputs": [
    {
     "name": "stdout",
     "output_type": "stream",
     "text": [
      "Total predicted valid emails 2621\n",
      "Predicted valid emails that are actually spam 40\n",
      "Percentage: 0.015261350629530714\n"
     ]
    }
   ],
   "source": [
    "count_spam_3_t = 0\n",
    "count_valid_3_t = 0\n",
    "for i in range(len(test_predicted_total)):\n",
    "    if test_predicted_total[i] == 0:\n",
    "        count_valid_3_t += 1\n",
    "        if test_labels_total[i] == 1:\n",
    "         count_spam_3_t += 1\n",
    "print(\"Total predicted valid emails\",count_valid_3_t)        \n",
    "print(\"Predicted valid emails that are actually spam\",count_spam_3_t)\n",
    "print(\"Percentage:\",count_spam_3_t/count_valid_3_t)"
   ]
  },
  {
   "cell_type": "markdown",
   "metadata": {},
   "source": [
    "With count_nonzero:"
   ]
  },
  {
   "cell_type": "code",
   "execution_count": 56,
   "metadata": {},
   "outputs": [
    {
     "name": "stdout",
     "output_type": "stream",
     "text": [
      "Percentage: 0.015261350629530714\n"
     ]
    }
   ],
   "source": [
    "import numpy as np\n",
    "count_t_2 = np.count_nonzero(test_labels_total - test_predicted_total == 1)/np.count_nonzero(test_predicted_total == 0)\n",
    "print(\"Percentage:\",count_t_2)"
   ]
  },
  {
   "cell_type": "code",
   "execution_count": null,
   "metadata": {},
   "outputs": [],
   "source": []
  },
  {
   "cell_type": "markdown",
   "metadata": {},
   "source": [
    "## EXERCISE F"
   ]
  },
  {
   "cell_type": "markdown",
   "metadata": {},
   "source": [
    "We are told that 0.5% of the ham mails are misclassified. If we consider ham as negative (0), this means that we have a False Positive Rate of 0.005. \n",
    "\n",
    "We are asked to calculate the rate of spam in our inbox, which is the False Negative Rate.\n",
    "\n",
    "We know that FNR + TPR = 1, and if we have the FPR, we have calculate the TPR using the ROC curve, so we would have the FNR."
   ]
  },
  {
   "cell_type": "markdown",
   "metadata": {},
   "source": [
    "I think there is not a function that gives the coordinates of the ROC curve, so what we can do instead is recall fprs_t and see which element is closer to 0.005. Once we know its position, we can check its associated TPR,and finally calculate the FNR.\n",
    "\n",
    "Another option would be using a a widget and use a cursor to manually check the coordinates in the ROC curve.\n",
    "\n"
   ]
  },
  {
   "cell_type": "code",
   "execution_count": 68,
   "metadata": {},
   "outputs": [
    {
     "name": "stdout",
     "output_type": "stream",
     "text": [
      "[0.71696075 0.71912135 0.71948145 0.72488297 0.72596327 0.72920418\n",
      " 0.72956428 0.73136478 0.73604609 0.7374865  0.7382067  0.7396471\n",
      " 0.7403673  0.7407274  0.74180771 0.74288801 0.74432841 0.74468851\n",
      " 0.74612892 0.74828952 0.74864962 0.74936982 0.74972992 0.75045013\n",
      " 0.75081023 0.75189053 0.75261073 0.75261073 0.75369103 0.75513144\n",
      " 0.75693194 0.75765214 0.76773497 0.76845517 0.76953547 0.77025567\n",
      " 0.77601728 0.77673749 0.78537991 0.78610011 0.78790061]\n"
     ]
    }
   ],
   "source": [
    "tpr_ = tprs_t[np.where(np.round(fprs_t,3) == 0.005)]\n",
    "print(tpr_)"
   ]
  },
  {
   "cell_type": "markdown",
   "metadata": {},
   "source": [
    "As we can see, if we round to 3 decimals (0.005), we have many TPR that are associated to a FPR=0.005, so we can take the mean of the first one and last one:"
   ]
  },
  {
   "cell_type": "code",
   "execution_count": 70,
   "metadata": {},
   "outputs": [],
   "source": [
    "mean=(tpr_[0]+tpr_[-1])/2\n"
   ]
  },
  {
   "cell_type": "markdown",
   "metadata": {},
   "source": [
    "And the FNR is:"
   ]
  },
  {
   "cell_type": "code",
   "execution_count": 73,
   "metadata": {},
   "outputs": [
    {
     "name": "stdout",
     "output_type": "stream",
     "text": [
      "Spam in inbox rate: 0.2475693194094346\n"
     ]
    }
   ],
   "source": [
    "fnr_ = 1-mean\n",
    "print(\"Spam in inbox rate:\",fnr_)"
   ]
  },
  {
   "cell_type": "markdown",
   "metadata": {},
   "source": [
    "If we use the widget:"
   ]
  },
  {
   "cell_type": "code",
   "execution_count": 75,
   "metadata": {},
   "outputs": [
    {
     "data": {
      "application/vnd.jupyter.widget-view+json": {
       "model_id": "4442be4cf2144054b02089f2314d4d26",
       "version_major": 2,
       "version_minor": 0
      },
      "text/plain": [
       "Canvas(toolbar=Toolbar(toolitems=[('Home', 'Reset original view', 'home', 'home'), ('Back', 'Back to previous …"
      ]
     },
     "metadata": {},
     "output_type": "display_data"
    }
   ],
   "source": [
    "import ipywidgets as widgets\n",
    "from ipywidgets import interact, interact_manual, fixed\n",
    "from matplotlib.widgets import Cursor, Button\n",
    "%matplotlib widget\n",
    "fig,ax =plt.subplots()\n",
    "plt.plot(fprs_t,tprs_t,label= \"ROC curve (area = %0.2f)\" % auc)\n",
    "plt.legend()\n",
    "plt.title(\"ROC curve\")\n",
    "cursor=Cursor(ax,horizOn=True,vertOn=True,color='green',linewidth=0.5)\n",
    "plt.show()"
   ]
  },
  {
   "cell_type": "code",
   "execution_count": 76,
   "metadata": {},
   "outputs": [
    {
     "name": "stdout",
     "output_type": "stream",
     "text": [
      "Spam in inbox rate: 0.24738899999999997\n"
     ]
    }
   ],
   "source": [
    "print(\"Spam in inbox rate:\",1-0.752611)"
   ]
  },
  {
   "cell_type": "code",
   "execution_count": null,
   "metadata": {},
   "outputs": [],
   "source": []
  }
 ],
 "metadata": {
  "kernelspec": {
   "display_name": "Python 3",
   "language": "python",
   "name": "python3"
  },
  "language_info": {
   "codemirror_mode": {
    "name": "ipython",
    "version": 3
   },
   "file_extension": ".py",
   "mimetype": "text/x-python",
   "name": "python",
   "nbconvert_exporter": "python",
   "pygments_lexer": "ipython3",
   "version": "3.7.3"
  }
 },
 "nbformat": 4,
 "nbformat_minor": 4
}
