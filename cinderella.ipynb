{
 "cells": [
  {
   "cell_type": "code",
   "execution_count": 1,
   "metadata": {
    "jupyter": {
     "source_hidden": true
    },
    "tags": [
     "hide"
    ]
   },
   "outputs": [],
   "source": [
    "import numpy as np\n",
    "import scipy.stats as st\n",
    "import matplotlib.pyplot as plt\n",
    "import mchlearn\n",
    "\n",
    "%matplotlib inline\n",
    "plt.rcParams[\"figure.figsize\"] = [12,8]\n",
    "plt.rcParams[\"animation.html\"] = \"jshtml\""
   ]
  },
  {
   "cell_type": "markdown",
   "metadata": {},
   "source": [
    "The wicked stepmother has ordered Cinderella to separate a mixture of different ingredients including _i.a._ lentils and ashes. The actual number of ingredients is unknown to poor Cinderella. Fortunately, Cinderella being good and kind has many friends. One of them working in \"Birds inc.\" company lent her the newest model of \"Dove\" scanner that can measure the diameter of the particles. Using it Cinderella gathered a list containing the diameter of each particle in the mixture. Knowing that for each kind of particles the diameter distribution is normal, she separated the mixture into different ingredients."
   ]
  },
  {
   "cell_type": "markdown",
   "metadata": {},
   "source": [
    "Data gathered by  Cinderella can be found in file \"data/mixture.txt\""
   ]
  },
  {
   "cell_type": "code",
   "execution_count": 2,
   "metadata": {},
   "outputs": [],
   "source": [
    "data = np.loadtxt('mixture.txt')"
   ]
  },
  {
   "cell_type": "code",
   "execution_count": 3,
   "metadata": {},
   "outputs": [
    {
     "data": {
      "text/plain": [
       "array([1.15462038, 1.4846258 , 1.85954399, ..., 0.80692936, 1.117645  ,\n",
       "       1.08439352])"
      ]
     },
     "execution_count": 3,
     "metadata": {},
     "output_type": "execute_result"
    }
   ],
   "source": [
    "data"
   ]
  },
  {
   "cell_type": "code",
   "execution_count": 4,
   "metadata": {},
   "outputs": [
    {
     "data": {
      "image/png": "[encoded data removed]",
      "text/plain": [
       "<Figure size 864x576 with 1 Axes>"
      ]
     },
     "metadata": {
      "needs_background": "light"
     },
     "output_type": "display_data"
    }
   ],
   "source": [
    "plt.hist(data,bins=32, histtype='step', density=True);"
   ]
  },
  {
   "cell_type": "markdown",
   "metadata": {
    "tags": [
     "problem"
    ]
   },
   "source": [
    "## Problem"
   ]
  },
  {
   "cell_type": "code",
   "execution_count": 5,
   "metadata": {},
   "outputs": [],
   "source": [
    "from sklearn.mixture import GaussianMixture\n",
    "from mchlearn.plotting import confidence_ellipse\n",
    "from sklearn.model_selection import train_test_split\n",
    "\n"
   ]
  },
  {
   "cell_type": "markdown",
   "metadata": {},
   "source": [
    "We can split the train and test set:"
   ]
  },
  {
   "cell_type": "code",
   "execution_count": 6,
   "metadata": {},
   "outputs": [],
   "source": [
    "cindy_train, cindy_test = train_test_split(data, test_size=0.2)\n",
    "cindy_train = cindy_train.reshape(-1, 1)\n",
    "cindy_test = cindy_test.reshape(-1, 1)\n",
    "\n",
    "\n"
   ]
  },
  {
   "cell_type": "markdown",
   "metadata": {},
   "source": [
    "We will test Gaussian mixtures up to 10 components, and we will evaluate which one is better using NLL, NLL with cross-validation, AIC and BIC: "
   ]
  },
  {
   "cell_type": "code",
   "execution_count": 7,
   "metadata": {},
   "outputs": [],
   "source": [
    "gmms = [GaussianMixture(n_components=i, tol=1e-4, max_iter=500, n_init=3) for i in range(1,11)] #preparing mixtures"
   ]
  },
  {
   "cell_type": "code",
   "execution_count": 8,
   "metadata": {},
   "outputs": [],
   "source": [
    "from sklearn.model_selection import cross_validate\n",
    "\n",
    "\n",
    "\n",
    "cvs =  [cross_validate(gm, cindy_train, y=None, cv=5) for gm in gmms] #cross-validating with ONLY the train set in this case."
   ]
  },
  {
   "cell_type": "code",
   "execution_count": 9,
   "metadata": {},
   "outputs": [],
   "source": [
    "for gm in gmms: #we must refit the mixtures. In this case, we only use the train set.\n",
    "    gm.fit(cindy_train)"
   ]
  },
  {
   "cell_type": "code",
   "execution_count": 10,
   "metadata": {},
   "outputs": [
    {
     "data": {
      "image/png": "[encoded data removed]",
      "text/plain": [
       "<Figure size 864x576 with 1 Axes>"
      ]
     },
     "metadata": {
      "needs_background": "light"
     },
     "output_type": "display_data"
    }
   ],
   "source": [
    "n_samples = len(cindy_train)\n",
    "plt.scatter(np.arange(1,11), [-c['test_score'].mean() for c in cvs], label='NLL CV');\n",
    "plt.scatter(np.arange(1,11), [-gm.score(cindy_train) for gm in gmms], label='NLL train');\n",
    "plt.scatter(np.arange(1,11), [-gm.score(cindy_test) for gm in gmms], label='NLL test');\n",
    "plt.scatter(np.arange(1,11), [0.5*gm.aic(cindy_train)/n_samples for gm in gmms], label='AIC train', facecolor='none', edgecolors='green');\n",
    "plt.scatter(np.arange(1,11), [0.5*gm.bic(cindy_train)/n_samples for gm in gmms], label='BIC train', facecolor='none', edgecolors='red');\n",
    "plt.xticks(np.arange(1,11));\n",
    "plt.xlabel(\"K\");\n",
    "plt.legend();"
   ]
  },
  {
   "cell_type": "markdown",
   "metadata": {},
   "source": [
    "In principle, for all criteria, the best is the one with the smallest value. In this case, we can see that from 2 to 10 component the difference is pretty small, and depending on the criterion we choose, the best number of components varies. I would say, that **the best mixture is the one with four components** (might make sense if we look at the histogram). "
   ]
  },
  {
   "cell_type": "markdown",
   "metadata": {},
   "source": [
    "In order to find the label of an item, we can calculate the distance of the item to the center of the clusters (the mean of each component of the mixture) and see which one is the smallest. In this case, since we are dealing with only one variable, we can just use **abs(item-center)** to calculate the distance."
   ]
  },
  {
   "cell_type": "code",
   "execution_count": 17,
   "metadata": {},
   "outputs": [],
   "source": [
    "labels=np.zeros(len(data))\n",
    "\n",
    "centers = []\n",
    "\n",
    "for i in range(len(data)): #we run through all the data\n",
    " item_label=[] #every time we run the first loop, the distances to the 4 centers will be appended here\n",
    " for j in range(4): #we check the distances to the 4 centers\n",
    "   distance = abs(data[i]-gmms[3].means_[j])\n",
    "   item_label.append(distance)\n",
    "    \n",
    " labels[i] = np.argmin(item_label)  #the label is the position of the smallest element\n",
    " \n",
    "      "
   ]
  },
  {
   "cell_type": "markdown",
   "metadata": {},
   "source": [
    "We can present the results in a DataFrame"
   ]
  },
  {
   "cell_type": "code",
   "execution_count": 18,
   "metadata": {},
   "outputs": [
    {
     "data": {
      "text/html": [
       "<div>\n",
       "<style scoped>\n",
       "    .dataframe tbody tr th:only-of-type {\n",
       "        vertical-align: middle;\n",
       "    }\n",
       "\n",
       "    .dataframe tbody tr th {\n",
       "        vertical-align: top;\n",
       "    }\n",
       "\n",
       "    .dataframe thead th {\n",
       "        text-align: right;\n",
       "    }\n",
       "</style>\n",
       "<table border=\"1\" class=\"dataframe\">\n",
       "  <thead>\n",
       "    <tr style=\"text-align: right;\">\n",
       "      <th></th>\n",
       "      <th>Data</th>\n",
       "      <th>Labels</th>\n",
       "    </tr>\n",
       "  </thead>\n",
       "  <tbody>\n",
       "    <tr>\n",
       "      <th>0</th>\n",
       "      <td>1.154620</td>\n",
       "      <td>1.0</td>\n",
       "    </tr>\n",
       "    <tr>\n",
       "      <th>1</th>\n",
       "      <td>1.484626</td>\n",
       "      <td>3.0</td>\n",
       "    </tr>\n",
       "    <tr>\n",
       "      <th>2</th>\n",
       "      <td>1.859544</td>\n",
       "      <td>2.0</td>\n",
       "    </tr>\n",
       "    <tr>\n",
       "      <th>3</th>\n",
       "      <td>2.054004</td>\n",
       "      <td>0.0</td>\n",
       "    </tr>\n",
       "    <tr>\n",
       "      <th>4</th>\n",
       "      <td>2.071529</td>\n",
       "      <td>0.0</td>\n",
       "    </tr>\n",
       "    <tr>\n",
       "      <th>5</th>\n",
       "      <td>2.131497</td>\n",
       "      <td>0.0</td>\n",
       "    </tr>\n",
       "    <tr>\n",
       "      <th>6</th>\n",
       "      <td>1.773167</td>\n",
       "      <td>2.0</td>\n",
       "    </tr>\n",
       "    <tr>\n",
       "      <th>7</th>\n",
       "      <td>1.416441</td>\n",
       "      <td>3.0</td>\n",
       "    </tr>\n",
       "    <tr>\n",
       "      <th>8</th>\n",
       "      <td>1.129756</td>\n",
       "      <td>1.0</td>\n",
       "    </tr>\n",
       "    <tr>\n",
       "      <th>9</th>\n",
       "      <td>1.978357</td>\n",
       "      <td>0.0</td>\n",
       "    </tr>\n",
       "  </tbody>\n",
       "</table>\n",
       "</div>"
      ],
      "text/plain": [
       "       Data  Labels\n",
       "0  1.154620     1.0\n",
       "1  1.484626     3.0\n",
       "2  1.859544     2.0\n",
       "3  2.054004     0.0\n",
       "4  2.071529     0.0\n",
       "5  2.131497     0.0\n",
       "6  1.773167     2.0\n",
       "7  1.416441     3.0\n",
       "8  1.129756     1.0\n",
       "9  1.978357     0.0"
      ]
     },
     "execution_count": 18,
     "metadata": {},
     "output_type": "execute_result"
    }
   ],
   "source": [
    "import pandas as pd\n",
    "\n",
    "df= pd.DataFrame({'Data': data,'Labels': labels})\n",
    "df.head(10)\n",
    "\n"
   ]
  },
  {
   "cell_type": "markdown",
   "metadata": {},
   "source": [
    "We can check if this makes sense by looking at the centers:"
   ]
  },
  {
   "cell_type": "code",
   "execution_count": 19,
   "metadata": {},
   "outputs": [
    {
     "name": "stdout",
     "output_type": "stream",
     "text": [
      "[[1.97338258]\n",
      " [1.01648723]\n",
      " [1.75138622]\n",
      " [1.38255428]]\n"
     ]
    }
   ],
   "source": [
    "\n",
    "print(gmms[3].means_)"
   ]
  },
  {
   "cell_type": "markdown",
   "metadata": {},
   "source": [
    "If we had two variables we could plot the items assigning them a color depending on how they were labeled and use the function confidence_ellipse, but this is not the case. What I will do instead is plot label vs data, which can be useful as well to visualize the clustering."
   ]
  },
  {
   "cell_type": "code",
   "execution_count": 20,
   "metadata": {},
   "outputs": [
    {
     "data": {
      "image/png": "[encoded data removed]",
      "text/plain": [
       "<Figure size 864x576 with 1 Axes>"
      ]
     },
     "metadata": {
      "needs_background": "light"
     },
     "output_type": "display_data"
    }
   ],
   "source": [
    "plt.plot(labels,data,marker= '.',markersize = 1,linestyle=\"None\",label=\"Items\")\n",
    "plt.plot(np.arange(4),gmms[3].means_, markersize = 10,marker='.',color='red',linestyle=\"None\", label = \"Center of labels\")\n",
    "plt.legend()\n",
    "plt.xticks(np.arange(min(labels), max(labels)+1, 1.0))\n",
    "plt.show()"
   ]
  },
  {
   "cell_type": "markdown",
   "metadata": {},
   "source": [
    "### Bonus question"
   ]
  },
  {
   "cell_type": "markdown",
   "metadata": {
    "tags": [
     "problem"
    ]
   },
   "source": [
    "Not knowing the real labels, how can you estimate  the accuracy of this classifier ? "
   ]
  },
  {
   "cell_type": "markdown",
   "metadata": {},
   "source": [
    "I cannot answer this question. As I didn't have any clue how to do it, I searched on Google and found two articles, but they seem a bit too complex to be the answer."
   ]
  },
  {
   "cell_type": "code",
   "execution_count": null,
   "metadata": {},
   "outputs": [],
   "source": []
  }
 ],
 "metadata": {
  "jupytext": {
   "text_representation": {
    "extension": ".Rmd",
    "format_name": "rmarkdown",
    "format_version": "1.2",
    "jupytext_version": "1.4.1"
   }
  },
  "kernelspec": {
   "display_name": "Python 3",
   "language": "python",
   "name": "python3"
  },
  "language_info": {
   "codemirror_mode": {
    "name": "ipython",
    "version": 3
   },
   "file_extension": ".py",
   "mimetype": "text/x-python",
   "name": "python",
   "nbconvert_exporter": "python",
   "pygments_lexer": "ipython3",
   "version": "3.7.3"
  }
 },
 "nbformat": 4,
 "nbformat_minor": 4
}
