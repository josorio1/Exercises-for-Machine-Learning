{
 "cells": [
  {
   "cell_type": "markdown",
   "metadata": {},
   "source": [
    "# Skin segmentation "
   ]
  },
  {
   "cell_type": "markdown",
   "metadata": {},
   "source": [
    "In this assignement you will train classifier to assign colors to skin or no skin classes. The data is taken from [Skin Segmentation Data Set](http://archive.ics.uci.edu/ml/datasets/Skin+Segmentation#) in the UCI Machine Learning repository."
   ]
  },
  {
   "cell_type": "markdown",
   "metadata": {},
   "source": [
    "The  data is in a plain text format and contains four columns. First three contain RGB color data  represented as integers in the range 0-255, and the last column is an integer label  with 1 representing skin and 2 representing no skin. This file we can load directly into a numpy array:"
   ]
  },
  {
   "cell_type": "code",
   "execution_count": 27,
   "metadata": {},
   "outputs": [],
   "source": [
    "import numpy as np"
   ]
  },
  {
   "cell_type": "code",
   "execution_count": 28,
   "metadata": {},
   "outputs": [],
   "source": [
    "data = np.loadtxt('Skin_NonSkin.txt')"
   ]
  },
  {
   "cell_type": "code",
   "execution_count": 29,
   "metadata": {},
   "outputs": [],
   "source": [
    "rgb  = data[:,:3]\n",
    "lbl = data[:,3].astype('int32') # some function expect labels to be integers"
   ]
  },
  {
   "cell_type": "code",
   "execution_count": 30,
   "metadata": {},
   "outputs": [],
   "source": [
    "import pandas as pd\n",
    "\n",
    "df1 = pd.DataFrame({'r': rgb[:,0], 'g' : rgb[:,1], 'b' : rgb[:,2],'label': lbl})"
   ]
  },
  {
   "cell_type": "code",
   "execution_count": 31,
   "metadata": {},
   "outputs": [
    {
     "data": {
      "text/html": [
       "<div>\n",
       "<style scoped>\n",
       "    .dataframe tbody tr th:only-of-type {\n",
       "        vertical-align: middle;\n",
       "    }\n",
       "\n",
       "    .dataframe tbody tr th {\n",
       "        vertical-align: top;\n",
       "    }\n",
       "\n",
       "    .dataframe thead th {\n",
       "        text-align: right;\n",
       "    }\n",
       "</style>\n",
       "<table border=\"1\" class=\"dataframe\">\n",
       "  <thead>\n",
       "    <tr style=\"text-align: right;\">\n",
       "      <th></th>\n",
       "      <th>r</th>\n",
       "      <th>g</th>\n",
       "      <th>b</th>\n",
       "      <th>label</th>\n",
       "    </tr>\n",
       "  </thead>\n",
       "  <tbody>\n",
       "    <tr>\n",
       "      <th>0</th>\n",
       "      <td>74.0</td>\n",
       "      <td>85.0</td>\n",
       "      <td>123.0</td>\n",
       "      <td>1</td>\n",
       "    </tr>\n",
       "    <tr>\n",
       "      <th>1</th>\n",
       "      <td>73.0</td>\n",
       "      <td>84.0</td>\n",
       "      <td>122.0</td>\n",
       "      <td>1</td>\n",
       "    </tr>\n",
       "    <tr>\n",
       "      <th>2</th>\n",
       "      <td>72.0</td>\n",
       "      <td>83.0</td>\n",
       "      <td>121.0</td>\n",
       "      <td>1</td>\n",
       "    </tr>\n",
       "    <tr>\n",
       "      <th>3</th>\n",
       "      <td>70.0</td>\n",
       "      <td>81.0</td>\n",
       "      <td>119.0</td>\n",
       "      <td>1</td>\n",
       "    </tr>\n",
       "    <tr>\n",
       "      <th>4</th>\n",
       "      <td>70.0</td>\n",
       "      <td>81.0</td>\n",
       "      <td>119.0</td>\n",
       "      <td>1</td>\n",
       "    </tr>\n",
       "  </tbody>\n",
       "</table>\n",
       "</div>"
      ],
      "text/plain": [
       "      r     g      b  label\n",
       "0  74.0  85.0  123.0      1\n",
       "1  73.0  84.0  122.0      1\n",
       "2  72.0  83.0  121.0      1\n",
       "3  70.0  81.0  119.0      1\n",
       "4  70.0  81.0  119.0      1"
      ]
     },
     "execution_count": 31,
     "metadata": {},
     "output_type": "execute_result"
    }
   ],
   "source": [
    "df1.head()"
   ]
  },
  {
   "cell_type": "markdown",
   "metadata": {},
   "source": [
    "We see that the classes are not balanced:"
   ]
  },
  {
   "cell_type": "code",
   "execution_count": 32,
   "metadata": {},
   "outputs": [
    {
     "data": {
      "text/plain": [
       "array([     0,  50859, 194198], dtype=int64)"
      ]
     },
     "execution_count": 32,
     "metadata": {},
     "output_type": "execute_result"
    }
   ],
   "source": [
    "np.bincount(lbl)"
   ]
  },
  {
   "cell_type": "markdown",
   "metadata": {},
   "source": [
    "lbl=0 is nonexistent"
   ]
  },
  {
   "cell_type": "markdown",
   "metadata": {},
   "source": [
    "## Problem 1 "
   ]
  },
  {
   "cell_type": "markdown",
   "metadata": {},
   "source": [
    "Compare the performance of the QuadraticDiscriminantAnalysis, LinearDiscriminativeAnalysis and NaiveBayes classifiers on this set. Use the `sklearn` library when needed. Compare the confusion matrices (tpr, fpr, tnr, fnr), precision and f1_ score and auc_score, as well ROC curves. Prepare a summary table with all the numerical scores one row per classifier on one column per metric (use pandas.DataFame). Plot all  ROC curves on the same plot and label them accordingly. Assume that skin is positive and non-skin negative. "
   ]
  },
  {
   "cell_type": "markdown",
   "metadata": {},
   "source": [
    "First of all, we will import the sklearn library and the required functions:"
   ]
  },
  {
   "cell_type": "code",
   "execution_count": 33,
   "metadata": {},
   "outputs": [],
   "source": [
    "from sklearn.naive_bayes import GaussianNB\n",
    "from sklearn.discriminant_analysis import LinearDiscriminantAnalysis\n",
    "from sklearn.discriminant_analysis import QuadraticDiscriminantAnalysis\n",
    "\n",
    "from sklearn.model_selection import train_test_split\n",
    "from sklearn.metrics import confusion_matrix\n",
    "from sklearn.metrics import plot_confusion_matrix\n",
    "from sklearn.metrics import precision_score, f1_score\n",
    "from sklearn.metrics import roc_auc_score, roc_curve\n",
    "\n"
   ]
  },
  {
   "cell_type": "markdown",
   "metadata": {},
   "source": [
    "We split the dataset into train set and test set:"
   ]
  },
  {
   "cell_type": "code",
   "execution_count": 34,
   "metadata": {},
   "outputs": [],
   "source": [
    "train_data, test_data, train_labels, test_labels = train_test_split(rgb, lbl, test_size=0.2)"
   ]
  },
  {
   "cell_type": "markdown",
   "metadata": {},
   "source": [
    "Now we fit, predict, and calculate the scores (we add the line directly into the DataFrame, except in the case of confusion matrix)."
   ]
  },
  {
   "cell_type": "code",
   "execution_count": 35,
   "metadata": {},
   "outputs": [],
   "source": [
    "import pandas as pd\n",
    "def analize(cls, name, train_data, train_labels, test_data, test_labels):\n",
    "    classifier = cls\n",
    "    classifier.fit(train_data,train_labels)\n",
    "    test_predicted = classifier.predict(test_data)\n",
    "    test_pred_prob= classifier.predict_proba(test_data) #remember that this gives two columns\n",
    "    fprs, tprs, thds  = roc_curve(test_labels, test_pred_prob[:,0],pos_label = 1)  \n",
    "    tnr, fpr, fnr, tpr = confusion_matrix(test_labels, test_predicted,normalize='pred').ravel()\n",
    "    auc = roc_auc_score(test_labels, test_predicted)\n",
    "    return  pd.DataFrame({'TNR':[tnr],\n",
    "                          'FNR':[fpr],\n",
    "                          'FPR':[fnr],\n",
    "                          'TPR':[tpr],\n",
    "                          'Precision' : [precision_score(test_labels, test_predicted, average='macro')],\n",
    "                          'F1' :[f1_score(test_labels, test_predicted, average='macro')],\n",
    "                          'AUC' :[auc]\n",
    "                           }, index=[name]), fprs, tprs, thds, auc"
   ]
  },
  {
   "cell_type": "markdown",
   "metadata": {},
   "source": [
    "And now we run our function for the three different classifiers, which are previously stored in a list along with their names, which\n",
    "will appear as index. In order to have a single DataFrame, we use the function pd.concat().\n",
    "\n",
    "Apart from this, we are asked to plot all the ROC curves together, so every time the for loop runs, we will use plt.plot for the given classifier:"
   ]
  },
  {
   "cell_type": "code",
   "execution_count": 36,
   "metadata": {},
   "outputs": [
    {
     "data": {
      "image/png": "[encoded data removed]",
      "text/plain": [
       "<Figure size 432x288 with 1 Axes>"
      ]
     },
     "metadata": {
      "needs_background": "light"
     },
     "output_type": "display_data"
    }
   ],
   "source": [
    "import matplotlib.pyplot as plt\n",
    "\n",
    "classifiers = [['Gaussian NB', 'LDA','QDA'],[ GaussianNB(),LinearDiscriminantAnalysis(),QuadraticDiscriminantAnalysis()]]\n",
    "df_score = pd.DataFrame()\n",
    "\n",
    "\n",
    "for i in range(len(classifiers[1])):\n",
    "    df,fprs,tprs,thds,auc = analize(classifiers[1][i], classifiers[0][i] , train_data, train_labels, test_data, test_labels)\n",
    "    df_score = pd.concat([df_score,df])\n",
    "    plt.plot(fprs,tprs,label= \"ROC curve for %s\" %classifiers[0][i] + \" (area = %0.2f)\" %float(auc))\n",
    "    plt.legend()\n",
    "    plt.title(\"ROC curve with RGB\")\n",
    "    plt.xlabel(\"FPR\")\n",
    "    plt.ylabel(\"TPR\")\n",
    "\n",
    "plt.show()"
   ]
  },
  {
   "cell_type": "markdown",
   "metadata": {},
   "source": [
    "Final DataFrame:"
   ]
  },
  {
   "cell_type": "code",
   "execution_count": 37,
   "metadata": {},
   "outputs": [
    {
     "data": {
      "text/html": [
       "<div>\n",
       "<style scoped>\n",
       "    .dataframe tbody tr th:only-of-type {\n",
       "        vertical-align: middle;\n",
       "    }\n",
       "\n",
       "    .dataframe tbody tr th {\n",
       "        vertical-align: top;\n",
       "    }\n",
       "\n",
       "    .dataframe thead th {\n",
       "        text-align: right;\n",
       "    }\n",
       "</style>\n",
       "<table border=\"1\" class=\"dataframe\">\n",
       "  <thead>\n",
       "    <tr style=\"text-align: right;\">\n",
       "      <th></th>\n",
       "      <th>TNR</th>\n",
       "      <th>FNR</th>\n",
       "      <th>FPR</th>\n",
       "      <th>TPR</th>\n",
       "      <th>Precision</th>\n",
       "      <th>F1</th>\n",
       "      <th>AUC</th>\n",
       "    </tr>\n",
       "  </thead>\n",
       "  <tbody>\n",
       "    <tr>\n",
       "      <th>Gaussian NB</th>\n",
       "      <td>0.878752</td>\n",
       "      <td>0.065631</td>\n",
       "      <td>0.121248</td>\n",
       "      <td>0.934369</td>\n",
       "      <td>0.906561</td>\n",
       "      <td>0.877940</td>\n",
       "      <td>0.855822</td>\n",
       "    </tr>\n",
       "    <tr>\n",
       "      <th>LDA</th>\n",
       "      <td>0.795624</td>\n",
       "      <td>0.025421</td>\n",
       "      <td>0.204376</td>\n",
       "      <td>0.974579</td>\n",
       "      <td>0.885102</td>\n",
       "      <td>0.901943</td>\n",
       "      <td>0.922705</td>\n",
       "    </tr>\n",
       "    <tr>\n",
       "      <th>QDA</th>\n",
       "      <td>0.994176</td>\n",
       "      <td>0.019258</td>\n",
       "      <td>0.005824</td>\n",
       "      <td>0.980742</td>\n",
       "      <td>0.987459</td>\n",
       "      <td>0.973944</td>\n",
       "      <td>0.961759</td>\n",
       "    </tr>\n",
       "  </tbody>\n",
       "</table>\n",
       "</div>"
      ],
      "text/plain": [
       "                  TNR       FNR       FPR       TPR  Precision        F1  \\\n",
       "Gaussian NB  0.878752  0.065631  0.121248  0.934369   0.906561  0.877940   \n",
       "LDA          0.795624  0.025421  0.204376  0.974579   0.885102  0.901943   \n",
       "QDA          0.994176  0.019258  0.005824  0.980742   0.987459  0.973944   \n",
       "\n",
       "                  AUC  \n",
       "Gaussian NB  0.855822  \n",
       "LDA          0.922705  \n",
       "QDA          0.961759  "
      ]
     },
     "execution_count": 37,
     "metadata": {},
     "output_type": "execute_result"
    }
   ],
   "source": [
    "df_score.head()"
   ]
  },
  {
   "cell_type": "markdown",
   "metadata": {},
   "source": [
    "## Problem 2"
   ]
  },
  {
   "cell_type": "markdown",
   "metadata": {},
   "source": [
    "Repeat same analysis but with RGB  data converted to Hue  Saturation Value (HSV) format. You can use the `colorsys` module for conversion "
   ]
  },
  {
   "cell_type": "code",
   "execution_count": 38,
   "metadata": {},
   "outputs": [],
   "source": [
    "from colorsys import rgb_to_hsv\n",
    "hsv = np.asarray([rgb_to_hsv(*row) for row in rgb]) #inneficient but it does not matter"
   ]
  },
  {
   "cell_type": "markdown",
   "metadata": {},
   "source": [
    "So we only have to update the variables:"
   ]
  },
  {
   "cell_type": "code",
   "execution_count": 41,
   "metadata": {},
   "outputs": [
    {
     "data": {
      "image/png": "[encoded data removed]",
      "text/plain": [
       "<Figure size 432x288 with 1 Axes>"
      ]
     },
     "metadata": {
      "needs_background": "light"
     },
     "output_type": "display_data"
    }
   ],
   "source": [
    "train_data_2, test_data_2, train_labels_2, test_labels_2 = train_test_split(hsv, lbl, test_size=0.2)\n",
    "\n",
    "\n",
    "df_score_2 = pd.DataFrame()\n",
    "\n",
    "\n",
    "\n",
    "\n",
    "for i in range(len(classifiers[1])):\n",
    "    df_2,fprs_2,tprs_2,thds_2,auc_2 = analize(classifiers[1][i], classifiers[0][i] , train_data_2, train_labels_2, test_data_2, test_labels_2)\n",
    "    df_score_2 = pd.concat([df_score_2,df_2])\n",
    "    plt.plot(fprs_2,tprs_2,label= \"ROC curve for %s\" %classifiers[0][i] + \" (area = %0.2f)\" %float(auc_2))\n",
    "    plt.legend()\n",
    "    plt.title(\"ROC curve with HSV\")\n",
    "    plt.xlabel(\"FPR\")\n",
    "    plt.ylabel(\"TPR\")\n",
    "\n",
    "plt.show()"
   ]
  },
  {
   "cell_type": "markdown",
   "metadata": {},
   "source": [
    "And we see that the results are even better."
   ]
  },
  {
   "cell_type": "code",
   "execution_count": 43,
   "metadata": {},
   "outputs": [
    {
     "data": {
      "text/html": [
       "<div>\n",
       "<style scoped>\n",
       "    .dataframe tbody tr th:only-of-type {\n",
       "        vertical-align: middle;\n",
       "    }\n",
       "\n",
       "    .dataframe tbody tr th {\n",
       "        vertical-align: top;\n",
       "    }\n",
       "\n",
       "    .dataframe thead th {\n",
       "        text-align: right;\n",
       "    }\n",
       "</style>\n",
       "<table border=\"1\" class=\"dataframe\">\n",
       "  <thead>\n",
       "    <tr style=\"text-align: right;\">\n",
       "      <th></th>\n",
       "      <th>TNR</th>\n",
       "      <th>FNR</th>\n",
       "      <th>FPR</th>\n",
       "      <th>TPR</th>\n",
       "      <th>Precision</th>\n",
       "      <th>F1</th>\n",
       "      <th>AUC</th>\n",
       "    </tr>\n",
       "  </thead>\n",
       "  <tbody>\n",
       "    <tr>\n",
       "      <th>Gaussian NB</th>\n",
       "      <td>0.947802</td>\n",
       "      <td>0.001018</td>\n",
       "      <td>0.052198</td>\n",
       "      <td>0.998982</td>\n",
       "      <td>0.973392</td>\n",
       "      <td>0.981823</td>\n",
       "      <td>0.990900</td>\n",
       "    </tr>\n",
       "    <tr>\n",
       "      <th>LDA</th>\n",
       "      <td>0.706958</td>\n",
       "      <td>0.000000</td>\n",
       "      <td>0.293042</td>\n",
       "      <td>1.000000</td>\n",
       "      <td>0.853479</td>\n",
       "      <td>0.885469</td>\n",
       "      <td>0.945727</td>\n",
       "    </tr>\n",
       "    <tr>\n",
       "      <th>QDA</th>\n",
       "      <td>0.981447</td>\n",
       "      <td>0.003095</td>\n",
       "      <td>0.018553</td>\n",
       "      <td>0.996905</td>\n",
       "      <td>0.989176</td>\n",
       "      <td>0.990409</td>\n",
       "      <td>0.991655</td>\n",
       "    </tr>\n",
       "  </tbody>\n",
       "</table>\n",
       "</div>"
      ],
      "text/plain": [
       "                  TNR       FNR       FPR       TPR  Precision        F1  \\\n",
       "Gaussian NB  0.947802  0.001018  0.052198  0.998982   0.973392  0.981823   \n",
       "LDA          0.706958  0.000000  0.293042  1.000000   0.853479  0.885469   \n",
       "QDA          0.981447  0.003095  0.018553  0.996905   0.989176  0.990409   \n",
       "\n",
       "                  AUC  \n",
       "Gaussian NB  0.990900  \n",
       "LDA          0.945727  \n",
       "QDA          0.991655  "
      ]
     },
     "execution_count": 43,
     "metadata": {},
     "output_type": "execute_result"
    }
   ],
   "source": [
    "df_score_2.head()"
   ]
  },
  {
   "cell_type": "code",
   "execution_count": null,
   "metadata": {},
   "outputs": [],
   "source": []
  }
 ],
 "metadata": {
  "jupytext": {
   "text_representation": {
    "extension": ".Rmd",
    "format_name": "rmarkdown",
    "format_version": "1.2",
    "jupytext_version": "1.4.1"
   }
  },
  "kernelspec": {
   "display_name": "Python 3",
   "language": "python",
   "name": "python3"
  },
  "language_info": {
   "codemirror_mode": {
    "name": "ipython",
    "version": 3
   },
   "file_extension": ".py",
   "mimetype": "text/x-python",
   "name": "python",
   "nbconvert_exporter": "python",
   "pygments_lexer": "ipython3",
   "version": "3.7.3"
  }
 },
 "nbformat": 4,
 "nbformat_minor": 4
}
