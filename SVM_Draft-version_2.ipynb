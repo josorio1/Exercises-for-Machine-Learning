{
 "cells": [
  {
   "cell_type": "markdown",
   "metadata": {},
   "source": [
    "# Exercises\n",
    "\n",
    "In this section we have two exercises:\n",
    "1. Implement the polynomial kernel.\n",
    "2. Implement the multiclass C-SVM."
   ]
  },
  {
   "cell_type": "markdown",
   "metadata": {},
   "source": [
    "## Polynomial kernel\n",
    "\n",
    "You need to extend the ``build_kernel`` function and implement the polynomial kernel if the ``kernel_type`` is set to 'poly'. The equation that needs to be implemented:\n",
    "\\begin{equation}\n",
    "K=(X^{T}*Y)^{d}.\n",
    "\\end{equation}"
   ]
  },
  {
   "cell_type": "code",
   "execution_count": 335,
   "metadata": {},
   "outputs": [],
   "source": [
    "import numpy as np\n",
    "import cvxopt"
   ]
  },
  {
   "cell_type": "code",
   "execution_count": 336,
   "metadata": {},
   "outputs": [],
   "source": [
    "def build_kernel(data_set,d, kernel_type='linear'): #we add the dimension as a variable\n",
    "    kernel = np.dot(data_set, data_set.T)\n",
    "    if kernel_type == 'rbf':\n",
    "        sigma = 1.0\n",
    "        objects_count = len(data_set)\n",
    "        b = np.ones((len(data_set), 1))\n",
    "        kernel -= 0.5 * (np.dot((np.diag(kernel)*np.ones((1, objects_count))).T, b.T)\n",
    "                         + np.dot(b, (np.diag(kernel) * np.ones((1, objects_count))).T.T))\n",
    "        kernel = np.exp(kernel / (2. * sigma ** 2))\n",
    "    elif kernel_type == 'poly':\n",
    "        kernel = np.dot(data_set.T, data_set.T)**d\n",
    "    return kernel"
   ]
  },
  {
   "cell_type": "markdown",
   "metadata": {},
   "source": [
    "## Implement a multiclass C-SVM\n",
    "\n",
    "Use the classification method that we used in notebook 7.3 and IRIS dataset to build a multiclass C-SVM classifier. Most implementation is about a function that will return the proper data set that need to be used for the prediction. You need to implement:\n",
    "- ``choose_set_for_label``\n",
    "- ``get_labels_count``"
   ]
  },
  {
   "cell_type": "code",
   "execution_count": 337,
   "metadata": {},
   "outputs": [],
   "source": [
    "from sklearn.datasets import load_iris\n",
    "from sklearn.model_selection import train_test_split\n",
    "from itertools import combinations\n"
   ]
  },
  {
   "cell_type": "code",
   "execution_count": 338,
   "metadata": {},
   "outputs": [],
   "source": [
    "iris = load_iris()\n",
    "data_set = iris.data\n",
    "labels = iris.target\n"
   ]
  },
  {
   "cell_type": "markdown",
   "metadata": {},
   "source": [
    "The function returns a train set that is separated according to their labels, and a test set that is common."
   ]
  },
  {
   "cell_type": "code",
   "execution_count": 339,
   "metadata": {},
   "outputs": [],
   "source": [
    "\n",
    "\n",
    "\n",
    "def choose_set_for_label(data_set, label):\n",
    "\n",
    "   \n",
    "   #Separate train and test\n",
    "   train_data_set, test_data_set, train_labels, test_labels = train_test_split(\n",
    "   data_set, label, test_size=0.2)\n",
    "   #We separate the train set into three lists depending on the label\n",
    "   final_train_data_set=[]\n",
    "   final_train_labels=[]\n",
    "   for i in range(3):\n",
    "    train_data_set_aux = train_data_set[train_labels == i]\n",
    "    label_aux = train_labels[train_labels == i]\n",
    "    final_train_data_set.append(train_data_set_aux)\n",
    "    final_train_labels.append(label_aux)\n",
    "\n",
    "   \n",
    "   \n",
    "\n",
    "   return final_train_data_set, test_data_set, final_train_labels, test_labels"
   ]
  },
  {
   "cell_type": "code",
   "execution_count": 340,
   "metadata": {},
   "outputs": [],
   "source": [
    "def get_labels_count(data_set):\n",
    "    \n",
    "    labels_count = len(data_set)\n",
    "    \n",
    "    return labels_count"
   ]
  },
  {
   "cell_type": "markdown",
   "metadata": {},
   "source": [
    "Use the code that we have implemented earlier:"
   ]
  },
  {
   "cell_type": "code",
   "execution_count": 341,
   "metadata": {},
   "outputs": [],
   "source": [
    "def train(train_data_set, train_labels, kernel_type='linear', C=10, threshold=1e-5):\n",
    "    kernel = build_kernel(train_data_set, kernel_type=kernel_type)\n",
    "\n",
    "    P = train_labels * train_labels.transpose() * kernel\n",
    "    q = -np.ones((objects_count, 1))\n",
    "    G = np.concatenate((np.eye(objects_count), -np.eye(objects_count)))\n",
    "    \n",
    "    h = np.concatenate((C * np.ones((objects_count, 1)), np.zeros((objects_count, 1))))\n",
    "\n",
    "    A = train_labels.reshape(1, objects_count)\n",
    "    A = A.astype(float)\n",
    "    b = 0.0\n",
    "\n",
    "    sol = cvxopt.solvers.qp(cvxopt.matrix(P), cvxopt.matrix(q), cvxopt.matrix(G), cvxopt.matrix(h), cvxopt.matrix(A), cvxopt.matrix(b))\n",
    "\n",
    "    lambdas = np.array(sol['x'])\n",
    "\n",
    "    support_vectors_id = np.where(lambdas > threshold)[0]\n",
    "    vector_number = len(support_vectors_id)\n",
    "    support_vectors = train_data_set[support_vectors_id, :]\n",
    "\n",
    "    lambdas = lambdas[support_vectors_id]\n",
    "    targets = train_labels[support_vectors_id]\n",
    "\n",
    "    b = np.sum(targets)\n",
    "    for n in range(vector_number):\n",
    "        b -= np.sum(lambdas * targets * np.reshape(kernel[support_vectors_id[n], support_vectors_id], (vector_number, 1)))\n",
    "    b /= len(lambdas)\n",
    "\n",
    "    return lambdas, support_vectors, support_vectors_id, b, targets, vector_number\n",
    "\n",
    "def build_kernel(data_set, kernel_type='linear'):\n",
    "    kernel = np.dot(data_set, data_set.T)\n",
    "    if kernel_type == 'rbf':\n",
    "        sigma = 1.0\n",
    "        objects_count = len(data_set)\n",
    "        b = np.ones((len(data_set), 1))\n",
    "        kernel -= 0.5 * (np.dot((np.diag(kernel)*np.ones((1, objects_count))).T, b.T)\n",
    "                         + np.dot(b, (np.diag(kernel) * np.ones((1, objects_count))).T.T))\n",
    "        kernel = np.exp(kernel / (2. * sigma ** 2))\n",
    "    return kernel\n",
    "\n",
    "def classify_rbf(test_data_set, train_data_set, lambdas, targets, b, vector_number, support_vectors, support_vectors_id):\n",
    "    kernel = np.dot(test_data_set, support_vectors.T)\n",
    "    sigma = 1.0\n",
    "    K = np.dot(test_data_set, support_vectors.T)\n",
    "    #kernel = build_kernel(train_data_set, kernel_type='rbf')\n",
    "    c = (1. / sigma * np.sum(test_data_set ** 2, axis=1) * np.ones((1, np.shape(test_data_set)[0]))).T\n",
    "    c = np.dot(c, np.ones((1, np.shape(kernel)[1])))\n",
    "    #aa = np.dot((np.diag(K)*np.ones((1,len(test_data_set)))).T[support_vectors_id], np.ones((1, np.shape(K)[0]))).T\n",
    "    sv = (np.diag(np.dot(train_data_set, train_data_set.T))*np.ones((1,len(train_data_set)))).T[support_vectors_id]\n",
    "    aa = np.dot(sv,np.ones((1,np.shape(kernel)[0]))).T\n",
    "    kernel = kernel - 0.5 * c - 0.5 * aa\n",
    "    kernel = np.exp(kernel / (2. * sigma ** 2))\n",
    "\n",
    "    y = np.zeros((np.shape(test_data_set)[0], 1))\n",
    "    for j in range(np.shape(test_data_set)[0]):\n",
    "        for i in range(vector_number):\n",
    "            y[j] += lambdas[i] * targets[i] * kernel[j, i]\n",
    "        y[j] += b\n",
    "    return np.sign(y)"
   ]
  },
  {
   "cell_type": "markdown",
   "metadata": {},
   "source": [
    "Now we prepare all the possible train_sets according to the combinations we have:"
   ]
  },
  {
   "cell_type": "code",
   "execution_count": 342,
   "metadata": {},
   "outputs": [],
   "source": [
    "iris = load_iris()\n",
    "data_set = iris.data\n",
    "labels = iris.target\n",
    "\n",
    "\n",
    "train_data_set, test_data_set, train_labels, test_labels= choose_set_for_label(data_set, labels) \n",
    "train_data_set_final = []\n",
    "train_labels_final = []\n",
    "for i in range(3): #Lists with combinations 2/0,0/1,/1,2\n",
    "    train_data_set_aux = train_data_set[i-1].tolist() + train_data_set[i].tolist() \n",
    "    train_labels_aux = train_labels[i-1].tolist() + train_labels[i].tolist()\n",
    "    train_data_set_final.append(train_data_set_aux)\n",
    "    train_labels_final.append(train_labels_aux)   "
   ]
  },
  {
   "cell_type": "markdown",
   "metadata": {},
   "source": [
    "And we predict for each combination. Instead of train_data_set, we have to write train_data_set_final[i]. "
   ]
  },
  {
   "cell_type": "code",
   "execution_count": 343,
   "metadata": {},
   "outputs": [
    {
     "name": "stdout",
     "output_type": "stream",
     "text": [
      "     pcost       dcost       gap    pres   dres\n",
      " 0:  1.0810e+02 -1.2796e+03  2e+03  2e-01  3e-15\n",
      " 1:  6.3003e+01 -1.3109e+02  2e+02  6e-03  2e-15\n",
      " 2:  7.3860e+00 -1.7990e+01  3e+01  9e-16  2e-15\n",
      " 3: -7.1387e-01 -4.1824e+00  3e+00  1e-15  1e-15\n",
      " 4: -1.3892e+00 -2.2550e+00  9e-01  4e-16  4e-16\n",
      " 5: -1.6316e+00 -1.9670e+00  3e-01  1e-15  2e-16\n",
      " 6: -1.7300e+00 -1.8474e+00  1e-01  3e-16  2e-16\n",
      " 7: -1.7595e+00 -1.7822e+00  2e-02  2e-16  2e-16\n",
      " 8: -1.7668e+00 -1.7699e+00  3e-03  2e-16  2e-16\n",
      " 9: -1.7681e+00 -1.7682e+00  9e-05  3e-16  2e-16\n",
      "10: -1.7681e+00 -1.7681e+00  2e-06  3e-16  2e-16\n",
      "11: -1.7681e+00 -1.7681e+00  6e-08  5e-16  2e-16\n",
      "Optimal solution found.\n",
      "     pcost       dcost       gap    pres   dres\n",
      " 0:  9.7073e+01 -1.2517e+03  2e+03  2e-01  3e-15\n",
      " 1:  6.0083e+01 -1.2130e+02  2e+02  5e-03  2e-15\n",
      " 2:  7.1881e+00 -1.6701e+01  2e+01  1e-15  3e-15\n",
      " 3: -5.1864e-01 -3.8056e+00  3e+00  2e-15  1e-15\n",
      " 4: -1.1776e+00 -1.8470e+00  7e-01  8e-16  4e-16\n",
      " 5: -1.3930e+00 -1.6677e+00  3e-01  3e-16  2e-16\n",
      " 6: -1.4644e+00 -1.5670e+00  1e-01  2e-16  2e-16\n",
      " 7: -1.5047e+00 -1.5184e+00  1e-02  1e-15  2e-16\n",
      " 8: -1.5104e+00 -1.5107e+00  3e-04  8e-16  2e-16\n",
      " 9: -1.5105e+00 -1.5105e+00  4e-06  7e-16  2e-16\n",
      "10: -1.5105e+00 -1.5105e+00  4e-08  8e-16  2e-16\n",
      "Optimal solution found.\n",
      "     pcost       dcost       gap    pres   dres\n",
      " 0:  8.3794e+01 -1.3175e+03  3e+03  2e-01  2e-15\n",
      " 1:  5.6426e+01 -1.1943e+02  2e+02  5e-03  2e-15\n",
      " 2:  7.1786e+00 -1.6021e+01  2e+01  6e-15  3e-15\n",
      " 3: -4.1933e-01 -3.6091e+00  3e+00  6e-16  1e-15\n",
      " 4: -1.1225e+00 -1.7425e+00  6e-01  2e-16  4e-16\n",
      " 5: -1.2590e+00 -1.4537e+00  2e-01  2e-16  2e-16\n",
      " 6: -1.3244e+00 -1.4469e+00  1e-01  4e-16  1e-16\n",
      " 7: -1.3539e+00 -1.3672e+00  1e-02  4e-16  2e-16\n",
      " 8: -1.3593e+00 -1.3604e+00  1e-03  2e-16  2e-16\n",
      " 9: -1.3598e+00 -1.3599e+00  1e-05  3e-16  2e-16\n",
      "10: -1.3598e+00 -1.3598e+00  1e-07  9e-16  2e-16\n",
      "Optimal solution found.\n",
      "Predictions: [[0, 0, 0, 0, 0, 0, 0, 0, 0, 0, 0, 0, 0, 0, 0, 0, 0, 0, 0, 0, 0, 0, 0, 0, 0, 0, 0, 0, 0, 0], [0, 0, 0, 1, 0, 0, 0, 0, 0, 0, 0, 1, 0, 0, 1, 1, 1, 0, 1, 1, 1, 0, 0, 0, 0, 0, 1, 0, 1, 0], [1, 1, 1, 1, 1, 1, 1, 1, 1, 1, 1, 1, 1, 1, 1, 1, 1, 1, 1, 1, 1, 1, 1, 1, 1, 1, 1, 1, 1, 1]]\n"
     ]
    }
   ],
   "source": [
    "from sklearn.metrics import accuracy_score \n",
    "\n",
    "\n",
    "predictions=[] #here we will append the predictions for each classifier\n",
    "for i in range(3):\n",
    " pred_aux = []\n",
    " #Change train set to +-1  \n",
    " min_label = np.min(train_labels_final[i])\n",
    " max_label = np.max(train_labels_final[i])\n",
    " for j in range(len(train_labels_final[i])):\n",
    "  if train_labels_final[i][j] == min_label:\n",
    "     train_labels_final[i][j] = -1\n",
    "  else:\n",
    "     train_labels_final[i][j] = 1\n",
    " objects_count = get_labels_count(train_data_set_final[i])\n",
    " #We change to array\n",
    " train_data_set_final[i] = np.array(train_data_set_final[i])   \n",
    " train_labels_final[i] = np.array(train_labels_final[i])\n",
    "\n",
    " #training of svm and prediction\n",
    " lambdas, support_vectors, support_vectors_id, b, targets, vector_number = train(train_data_set_final[i], train_labels_final[i], kernel_type='rbf')\n",
    " predicted = classify_rbf(test_data_set, train_data_set_final[i], lambdas, targets, b, vector_number, support_vectors, support_vectors_id)\n",
    " predicted = list(predicted.astype(int)) #predictions for each classifier\n",
    " #If we have -1, we append one label, and if we have +1, we append the other one   \n",
    " for k in range(len(predicted)):\n",
    "    if predicted[k] == -1:\n",
    "       pred_aux.append(min_label)\n",
    "    elif predicted[k] == 1:\n",
    "       pred_aux.append(max_label)\n",
    " predictions.append(pred_aux)   \n",
    "    \n",
    "print(\"Predictions:\",predictions)   \n"
   ]
  },
  {
   "cell_type": "markdown",
   "metadata": {},
   "source": [
    "We have three lists (inside one) with the predictions for each classifier. Now we will put the predictions for each datum inside\n",
    "a list, which will then be subject to a voting:"
   ]
  },
  {
   "cell_type": "code",
   "execution_count": 344,
   "metadata": {},
   "outputs": [
    {
     "name": "stdout",
     "output_type": "stream",
     "text": [
      "Final accuracy: 0.6\n"
     ]
    }
   ],
   "source": [
    "\n",
    "\n",
    "prediction_final = []\n",
    "for j in range(len(predictions[0])):\n",
    "    prediction_split = []\n",
    "    for k in range(len(predictions)):\n",
    "      prediction_split.append(predictions[k][j])\n",
    "    counts = np.bincount(prediction_split)\n",
    "    prediction_final.append(np.argmax(counts))\n",
    "    \n",
    "    \n",
    "print(\"Final accuracy:\",accuracy_score(prediction_final, test_labels))\n",
    "#https://cvxopt.org/examples/tutorial/lp.html"
   ]
  },
  {
   "cell_type": "markdown",
   "metadata": {},
   "source": [
    "The accuracy is not great, but it is what we should expect since the classifiers do not predict a single datum as 2. I guess there is something wrong with the code, but I don't know what. \n",
    "\n",
    "#Update: I checked again the notebook 062_SVM_C and saw that the accuracy given is 0.55, and the predictions are always all 1's or -1's. I figured out that maybe the problem is with the function classify_rbf, but in principle we don't have to modify it."
   ]
  },
  {
   "cell_type": "code",
   "execution_count": 345,
   "metadata": {},
   "outputs": [
    {
     "name": "stdout",
     "output_type": "stream",
     "text": [
      "[2 0 0 1 2 2 2 0 0 1 0 1 2 0 1 2 2 0 2 1 1 2 0 0 0 2 1 2 1 0]\n",
      "[[0, 0, 0, 0, 0, 0, 0, 0, 0, 0, 0, 0, 0, 0, 0, 0, 0, 0, 0, 0, 0, 0, 0, 0, 0, 0, 0, 0, 0, 0], [0, 0, 0, 1, 0, 0, 0, 0, 0, 0, 0, 1, 0, 0, 1, 1, 1, 0, 1, 1, 1, 0, 0, 0, 0, 0, 1, 0, 1, 0], [1, 1, 1, 1, 1, 1, 1, 1, 1, 1, 1, 1, 1, 1, 1, 1, 1, 1, 1, 1, 1, 1, 1, 1, 1, 1, 1, 1, 1, 1]]\n"
     ]
    }
   ],
   "source": [
    "print(test_labels)\n",
    "print(predictions)"
   ]
  },
  {
   "cell_type": "code",
   "execution_count": null,
   "metadata": {},
   "outputs": [],
   "source": []
  },
  {
   "cell_type": "code",
   "execution_count": null,
   "metadata": {},
   "outputs": [],
   "source": []
  },
  {
   "cell_type": "code",
   "execution_count": null,
   "metadata": {},
   "outputs": [],
   "source": []
  },
  {
   "cell_type": "code",
   "execution_count": null,
   "metadata": {},
   "outputs": [],
   "source": []
  }
 ],
 "metadata": {
  "kernelspec": {
   "display_name": "Python 3",
   "language": "python",
   "name": "python3"
  },
  "language_info": {
   "codemirror_mode": {
    "name": "ipython",
    "version": 3
   },
   "file_extension": ".py",
   "mimetype": "text/x-python",
   "name": "python",
   "nbconvert_exporter": "python",
   "pygments_lexer": "ipython3",
   "version": "3.7.3"
  }
 },
 "nbformat": 4,
 "nbformat_minor": 4
}
