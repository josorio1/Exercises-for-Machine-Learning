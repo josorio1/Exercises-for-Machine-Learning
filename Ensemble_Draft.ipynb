{
 "cells": [
  {
   "cell_type": "markdown",
   "metadata": {},
   "source": [
    "# Ensemble methods. Exercises\n",
    "\n",
    "\n",
    "In this section we have only two exercise:\n",
    "\n",
    "1. Find the best three classifier in the stacking method using the classifiers from scikit-learn package.\n",
    "\n",
    "2. Build arcing arc-x4 method. "
   ]
  },
  {
   "cell_type": "code",
   "execution_count": 147,
   "metadata": {},
   "outputs": [],
   "source": [
    "%store -r data_set\n",
    "%store -r labels\n",
    "%store -r test_data_set\n",
    "%store -r test_labels\n",
    "%store -r unique_labels"
   ]
  },
  {
   "cell_type": "markdown",
   "metadata": {},
   "source": [
    "## Exercise 1: Find the best three classifier in the stacking method\n",
    "\n",
    "Please use the following classifiers:\n",
    "\n",
    "* Linear regression,\n",
    "* Nearest Neighbors,\n",
    "* Linear SVM,\n",
    "* Decision Tree,\n",
    "* Naive Bayes,\n",
    "* QDA."
   ]
  },
  {
   "cell_type": "code",
   "execution_count": 148,
   "metadata": {},
   "outputs": [],
   "source": [
    "import numpy as np\n",
    "from sklearn.metrics import accuracy_score\n",
    "\n",
    "from sklearn.linear_model import LinearRegression\n",
    "from sklearn.neighbors import KNeighborsClassifier\n",
    "from sklearn.svm import SVC\n",
    "from sklearn.tree import DecisionTreeClassifier\n",
    "from sklearn.naive_bayes import GaussianNB\n",
    "from sklearn.discriminant_analysis import QuadraticDiscriminantAnalysis"
   ]
  },
  {
   "cell_type": "code",
   "execution_count": 149,
   "metadata": {},
   "outputs": [],
   "source": [
    "def build_classifiers():\n",
    "    \n",
    "    linear_regression = LinearRegression()\n",
    "    linear_regression.fit(data_set, labels)\n",
    "    \n",
    "    neighbors = KNeighborsClassifier()\n",
    "    neighbors.fit(data_set, labels)\n",
    "\n",
    "    svm = SVC()\n",
    "    svm.fit(data_set,labels)\n",
    "    \n",
    "    decision_tree = DecisionTreeClassifier()\n",
    "    decision_tree.fit(data_set,labels)\n",
    "    \n",
    "    naive_bayes = GaussianNB()\n",
    "    naive_bayes.fit(data_set, labels)\n",
    "    \n",
    "    qda = QuadraticDiscriminantAnalysis()\n",
    "    qda.fit(data_set, labels)\n",
    "\n",
    "\n",
    "    return linear_regression, neighbors, svm"
   ]
  },
  {
   "cell_type": "code",
   "execution_count": 150,
   "metadata": {},
   "outputs": [],
   "source": [
    "def build_stacked_classifier(classifiers):\n",
    "    output = []\n",
    "    for classifier in classifiers:\n",
    "        output.append(classifier.predict(data_set))\n",
    "    output = np.array(output).reshape((130,3))\n",
    "    \n",
    "    # stacked classifier part:\n",
    "    stacked_classifier = LinearRegression() # set here\n",
    "    stacked_classifier.fit(output.reshape((130,3)), labels.reshape((130,)))\n",
    "    test_set = []\n",
    "    for classifier in classifiers:\n",
    "        test_set.append(classifier.predict(test_data_set))\n",
    "    test_set = np.array(test_set).reshape((len(test_set[0]),3))\n",
    "    predicted = stacked_classifier.predict(test_set)\n",
    "    return predicted"
   ]
  },
  {
   "cell_type": "code",
   "execution_count": 151,
   "metadata": {},
   "outputs": [
    {
     "name": "stderr",
     "output_type": "stream",
     "text": [
      "C:\\Users\\jackt\\Anaconda3\\lib\\site-packages\\sklearn\\svm\\base.py:193: FutureWarning: The default value of gamma will change from 'auto' to 'scale' in version 0.22 to account better for unscaled features. Set gamma explicitly to 'auto' or 'scale' to avoid this warning.\n",
      "  \"avoid this warning.\", FutureWarning)\n"
     ]
    },
    {
     "ename": "ValueError",
     "evalue": "Classification metrics can't handle a mix of binary and continuous targets",
     "output_type": "error",
     "traceback": [
      "\u001b[1;31m---------------------------------------------------------------------------\u001b[0m",
      "\u001b[1;31mValueError\u001b[0m                                Traceback (most recent call last)",
      "\u001b[1;32m<ipython-input-151-c94e449be689>\u001b[0m in \u001b[0;36m<module>\u001b[1;34m\u001b[0m\n\u001b[0;32m      1\u001b[0m \u001b[0mclassifiers\u001b[0m \u001b[1;33m=\u001b[0m \u001b[0mbuild_classifiers\u001b[0m\u001b[1;33m(\u001b[0m\u001b[1;33m)\u001b[0m\u001b[1;33m\u001b[0m\u001b[1;33m\u001b[0m\u001b[0m\n\u001b[0;32m      2\u001b[0m \u001b[0mpredicted\u001b[0m \u001b[1;33m=\u001b[0m \u001b[0mbuild_stacked_classifier\u001b[0m\u001b[1;33m(\u001b[0m\u001b[0mclassifiers\u001b[0m\u001b[1;33m)\u001b[0m\u001b[1;33m\u001b[0m\u001b[1;33m\u001b[0m\u001b[0m\n\u001b[1;32m----> 3\u001b[1;33m \u001b[0maccuracy\u001b[0m \u001b[1;33m=\u001b[0m \u001b[0maccuracy_score\u001b[0m\u001b[1;33m(\u001b[0m\u001b[0mtest_labels\u001b[0m\u001b[1;33m,\u001b[0m \u001b[0mpredicted\u001b[0m\u001b[1;33m)\u001b[0m\u001b[1;33m\u001b[0m\u001b[1;33m\u001b[0m\u001b[0m\n\u001b[0m\u001b[0;32m      4\u001b[0m \u001b[0mprint\u001b[0m\u001b[1;33m(\u001b[0m\u001b[0maccuracy\u001b[0m\u001b[1;33m)\u001b[0m\u001b[1;33m\u001b[0m\u001b[1;33m\u001b[0m\u001b[0m\n",
      "\u001b[1;32m~\\Anaconda3\\lib\\site-packages\\sklearn\\metrics\\classification.py\u001b[0m in \u001b[0;36maccuracy_score\u001b[1;34m(y_true, y_pred, normalize, sample_weight)\u001b[0m\n\u001b[0;32m    174\u001b[0m \u001b[1;33m\u001b[0m\u001b[0m\n\u001b[0;32m    175\u001b[0m     \u001b[1;31m# Compute accuracy for each possible representation\u001b[0m\u001b[1;33m\u001b[0m\u001b[1;33m\u001b[0m\u001b[1;33m\u001b[0m\u001b[0m\n\u001b[1;32m--> 176\u001b[1;33m     \u001b[0my_type\u001b[0m\u001b[1;33m,\u001b[0m \u001b[0my_true\u001b[0m\u001b[1;33m,\u001b[0m \u001b[0my_pred\u001b[0m \u001b[1;33m=\u001b[0m \u001b[0m_check_targets\u001b[0m\u001b[1;33m(\u001b[0m\u001b[0my_true\u001b[0m\u001b[1;33m,\u001b[0m \u001b[0my_pred\u001b[0m\u001b[1;33m)\u001b[0m\u001b[1;33m\u001b[0m\u001b[1;33m\u001b[0m\u001b[0m\n\u001b[0m\u001b[0;32m    177\u001b[0m     \u001b[0mcheck_consistent_length\u001b[0m\u001b[1;33m(\u001b[0m\u001b[0my_true\u001b[0m\u001b[1;33m,\u001b[0m \u001b[0my_pred\u001b[0m\u001b[1;33m,\u001b[0m \u001b[0msample_weight\u001b[0m\u001b[1;33m)\u001b[0m\u001b[1;33m\u001b[0m\u001b[1;33m\u001b[0m\u001b[0m\n\u001b[0;32m    178\u001b[0m     \u001b[1;32mif\u001b[0m \u001b[0my_type\u001b[0m\u001b[1;33m.\u001b[0m\u001b[0mstartswith\u001b[0m\u001b[1;33m(\u001b[0m\u001b[1;34m'multilabel'\u001b[0m\u001b[1;33m)\u001b[0m\u001b[1;33m:\u001b[0m\u001b[1;33m\u001b[0m\u001b[1;33m\u001b[0m\u001b[0m\n",
      "\u001b[1;32m~\\Anaconda3\\lib\\site-packages\\sklearn\\metrics\\classification.py\u001b[0m in \u001b[0;36m_check_targets\u001b[1;34m(y_true, y_pred)\u001b[0m\n\u001b[0;32m     79\u001b[0m     \u001b[1;32mif\u001b[0m \u001b[0mlen\u001b[0m\u001b[1;33m(\u001b[0m\u001b[0my_type\u001b[0m\u001b[1;33m)\u001b[0m \u001b[1;33m>\u001b[0m \u001b[1;36m1\u001b[0m\u001b[1;33m:\u001b[0m\u001b[1;33m\u001b[0m\u001b[1;33m\u001b[0m\u001b[0m\n\u001b[0;32m     80\u001b[0m         raise ValueError(\"Classification metrics can't handle a mix of {0} \"\n\u001b[1;32m---> 81\u001b[1;33m                          \"and {1} targets\".format(type_true, type_pred))\n\u001b[0m\u001b[0;32m     82\u001b[0m \u001b[1;33m\u001b[0m\u001b[0m\n\u001b[0;32m     83\u001b[0m     \u001b[1;31m# We can't have more than one value on y_type => The set is no more needed\u001b[0m\u001b[1;33m\u001b[0m\u001b[1;33m\u001b[0m\u001b[1;33m\u001b[0m\u001b[0m\n",
      "\u001b[1;31mValueError\u001b[0m: Classification metrics can't handle a mix of binary and continuous targets"
     ]
    }
   ],
   "source": [
    "classifiers = build_classifiers()\n",
    "predicted = build_stacked_classifier(classifiers)\n",
    "accuracy = accuracy_score(test_labels, predicted)\n",
    "print(accuracy)"
   ]
  },
  {
   "cell_type": "markdown",
   "metadata": {},
   "source": [
    "## Exercise 2: \n",
    "\n",
    "Use the boosting method and change the code to fullfilt the following requirements:\n",
    "\n",
    "* the weights should be calculated as:\n",
    "$w_{n}^{(t+1)}=\\frac{1+ I(y_{n}\\neq h_{t}(x_{n})}{\\sum_{i=1}^{N}1+I(y_{n}\\neq h_{t}(x_{n})}$,\n",
    "* the prediction is done with a voting method."
   ]
  },
  {
   "cell_type": "code",
   "execution_count": 152,
   "metadata": {},
   "outputs": [],
   "source": [
    "import numpy as np\n",
    "from sklearn.tree import DecisionTreeClassifier\n",
    "\n",
    "# prepare data set\n",
    "\n",
    "def generate_data(sample_number, feature_number, label_number):\n",
    "    data_set = np.random.random_sample((sample_number, feature_number))\n",
    "    labels = np.random.choice(label_number, sample_number)\n",
    "    return data_set, labels\n",
    "\n",
    "labels = 2\n",
    "dimension = 2\n",
    "test_set_size = 1000\n",
    "train_set_size = 5000\n",
    "train_set, train_labels = generate_data(train_set_size, dimension, labels)\n",
    "test_set, test_labels = generate_data(test_set_size, dimension, labels)\n",
    "\n",
    "# init weights\n",
    "number_of_iterations = 10\n",
    "weights = np.ones((test_set_size,)) / test_set_size\n",
    "\n",
    "\n",
    "def train_model(classifier, weights):\n",
    "    return classifier.fit(X=test_set, y=test_labels, sample_weight=weights)\n",
    "\n",
    "\n",
    "def calculate_accuracy_vector(predicted, labels):\n",
    "    result = []\n",
    "    for i in range(len(predicted)):\n",
    "        if predicted[i] == labels[i]:\n",
    "            result.append(0)\n",
    "        else:\n",
    "            result.append(1)\n",
    "    return result\n",
    "\n",
    "def calculate_error(model):\n",
    "    predicted = model.predict(test_set)\n",
    "    I=calculate_accuracy_vector(predicted, test_labels)\n",
    "    Z=np.sum(I)\n",
    "    return (1+Z)/1.0"
   ]
  },
  {
   "cell_type": "markdown",
   "metadata": {},
   "source": [
    "Fill the two functions below:"
   ]
  },
  {
   "cell_type": "code",
   "execution_count": 153,
   "metadata": {},
   "outputs": [],
   "source": [
    "def set_new_weights(model):\n",
    "    new_weights = np.add(calculate_accuracy_vector(model.predict(test_set), test_labels),[1 for i in range(len(test_labels))])\n",
    "    print(len(new_weights))\n",
    "    sum_I = np.sum(new_weights)\n",
    "    return new_weights/sum_I"
   ]
  },
  {
   "cell_type": "markdown",
   "metadata": {},
   "source": [
    "Train the classifier with the code below:"
   ]
  },
  {
   "cell_type": "code",
   "execution_count": 154,
   "metadata": {},
   "outputs": [
    {
     "name": "stdout",
     "output_type": "stream",
     "text": [
      "1000\n",
      "1000\n",
      "1000\n",
      "1000\n",
      "1000\n",
      "1000\n",
      "1000\n",
      "1000\n",
      "1000\n",
      "1000\n",
      "[0.00132363 0.00066181 0.00132363 0.00066181 0.00132363 0.00132363\n",
      " 0.00066181 0.00066181 0.00066181 0.00066181 0.00132363 0.00132363\n",
      " 0.00066181 0.00132363 0.00132363 0.00066181 0.00132363 0.00066181\n",
      " 0.00066181 0.00066181 0.00132363 0.00066181 0.00132363 0.00066181\n",
      " 0.00066181 0.00066181 0.00132363 0.00066181 0.00066181 0.00132363\n",
      " 0.00066181 0.00066181 0.00066181 0.00132363 0.00132363 0.00066181\n",
      " 0.00132363 0.00066181 0.00066181 0.00132363 0.00066181 0.00132363\n",
      " 0.00132363 0.00132363 0.00066181 0.00066181 0.00132363 0.00066181\n",
      " 0.00132363 0.00132363 0.00066181 0.00132363 0.00066181 0.00066181\n",
      " 0.00066181 0.00132363 0.00066181 0.00066181 0.00132363 0.00132363\n",
      " 0.00066181 0.00132363 0.00132363 0.00132363 0.00132363 0.00132363\n",
      " 0.00066181 0.00066181 0.00132363 0.00132363 0.00132363 0.00066181\n",
      " 0.00066181 0.00132363 0.00132363 0.00066181 0.00132363 0.00066181\n",
      " 0.00066181 0.00066181 0.00066181 0.00066181 0.00066181 0.00132363\n",
      " 0.00132363 0.00066181 0.00132363 0.00066181 0.00132363 0.00132363\n",
      " 0.00132363 0.00066181 0.00066181 0.00132363 0.00132363 0.00132363\n",
      " 0.00066181 0.00066181 0.00132363 0.00066181 0.00132363 0.00066181\n",
      " 0.00132363 0.00066181 0.00066181 0.00066181 0.00132363 0.00066181\n",
      " 0.00132363 0.00132363 0.00132363 0.00066181 0.00066181 0.00066181\n",
      " 0.00066181 0.00132363 0.00132363 0.00132363 0.00132363 0.00132363\n",
      " 0.00132363 0.00132363 0.00132363 0.00132363 0.00066181 0.00066181\n",
      " 0.00132363 0.00132363 0.00132363 0.00066181 0.00132363 0.00132363\n",
      " 0.00132363 0.00066181 0.00066181 0.00066181 0.00066181 0.00066181\n",
      " 0.00132363 0.00132363 0.00132363 0.00132363 0.00066181 0.00132363\n",
      " 0.00066181 0.00132363 0.00066181 0.00066181 0.00066181 0.00066181\n",
      " 0.00132363 0.00132363 0.00132363 0.00066181 0.00132363 0.00132363\n",
      " 0.00132363 0.00066181 0.00132363 0.00066181 0.00132363 0.00132363\n",
      " 0.00066181 0.00066181 0.00132363 0.00066181 0.00066181 0.00132363\n",
      " 0.00132363 0.00132363 0.00066181 0.00132363 0.00066181 0.00132363\n",
      " 0.00132363 0.00132363 0.00132363 0.00066181 0.00132363 0.00066181\n",
      " 0.00132363 0.00132363 0.00066181 0.00132363 0.00132363 0.00066181\n",
      " 0.00132363 0.00066181 0.00132363 0.00132363 0.00132363 0.00066181\n",
      " 0.00066181 0.00132363 0.00066181 0.00132363 0.00132363 0.00066181\n",
      " 0.00066181 0.00132363 0.00066181 0.00066181 0.00066181 0.00066181\n",
      " 0.00132363 0.00066181 0.00132363 0.00132363 0.00066181 0.00132363\n",
      " 0.00066181 0.00066181 0.00066181 0.00066181 0.00066181 0.00066181\n",
      " 0.00066181 0.00132363 0.00132363 0.00066181 0.00066181 0.00132363\n",
      " 0.00132363 0.00066181 0.00132363 0.00132363 0.00066181 0.00132363\n",
      " 0.00066181 0.00132363 0.00132363 0.00132363 0.00132363 0.00132363\n",
      " 0.00066181 0.00132363 0.00132363 0.00132363 0.00066181 0.00132363\n",
      " 0.00132363 0.00132363 0.00066181 0.00066181 0.00132363 0.00132363\n",
      " 0.00066181 0.00132363 0.00132363 0.00066181 0.00066181 0.00132363\n",
      " 0.00066181 0.00132363 0.00066181 0.00066181 0.00066181 0.00132363\n",
      " 0.00132363 0.00066181 0.00066181 0.00066181 0.00132363 0.00132363\n",
      " 0.00066181 0.00132363 0.00132363 0.00066181 0.00066181 0.00132363\n",
      " 0.00132363 0.00132363 0.00066181 0.00132363 0.00132363 0.00132363\n",
      " 0.00132363 0.00066181 0.00132363 0.00132363 0.00066181 0.00132363\n",
      " 0.00132363 0.00066181 0.00066181 0.00066181 0.00066181 0.00066181\n",
      " 0.00132363 0.00066181 0.00132363 0.00132363 0.00132363 0.00132363\n",
      " 0.00066181 0.00066181 0.00066181 0.00066181 0.00132363 0.00066181\n",
      " 0.00132363 0.00132363 0.00132363 0.00132363 0.00066181 0.00132363\n",
      " 0.00066181 0.00066181 0.00132363 0.00066181 0.00132363 0.00132363\n",
      " 0.00066181 0.00132363 0.00066181 0.00066181 0.00132363 0.00066181\n",
      " 0.00066181 0.00066181 0.00132363 0.00132363 0.00132363 0.00066181\n",
      " 0.00132363 0.00066181 0.00132363 0.00132363 0.00132363 0.00066181\n",
      " 0.00132363 0.00132363 0.00066181 0.00066181 0.00132363 0.00132363\n",
      " 0.00066181 0.00066181 0.00132363 0.00066181 0.00132363 0.00132363\n",
      " 0.00066181 0.00066181 0.00132363 0.00132363 0.00066181 0.00132363\n",
      " 0.00066181 0.00066181 0.00132363 0.00066181 0.00132363 0.00066181\n",
      " 0.00132363 0.00132363 0.00066181 0.00132363 0.00066181 0.00066181\n",
      " 0.00066181 0.00066181 0.00066181 0.00132363 0.00066181 0.00066181\n",
      " 0.00066181 0.00132363 0.00132363 0.00132363 0.00132363 0.00132363\n",
      " 0.00132363 0.00132363 0.00066181 0.00132363 0.00132363 0.00066181\n",
      " 0.00066181 0.00132363 0.00066181 0.00132363 0.00132363 0.00066181\n",
      " 0.00132363 0.00066181 0.00066181 0.00066181 0.00132363 0.00066181\n",
      " 0.00132363 0.00132363 0.00066181 0.00066181 0.00132363 0.00066181\n",
      " 0.00066181 0.00132363 0.00066181 0.00066181 0.00132363 0.00132363\n",
      " 0.00066181 0.00132363 0.00132363 0.00066181 0.00066181 0.00132363\n",
      " 0.00132363 0.00132363 0.00066181 0.00066181 0.00066181 0.00132363\n",
      " 0.00066181 0.00066181 0.00132363 0.00066181 0.00066181 0.00132363\n",
      " 0.00066181 0.00132363 0.00066181 0.00132363 0.00066181 0.00132363\n",
      " 0.00066181 0.00132363 0.00066181 0.00132363 0.00066181 0.00132363\n",
      " 0.00132363 0.00132363 0.00132363 0.00066181 0.00132363 0.00132363\n",
      " 0.00066181 0.00132363 0.00132363 0.00132363 0.00132363 0.00066181\n",
      " 0.00066181 0.00066181 0.00066181 0.00132363 0.00132363 0.00132363\n",
      " 0.00066181 0.00066181 0.00066181 0.00066181 0.00132363 0.00132363\n",
      " 0.00132363 0.00132363 0.00132363 0.00066181 0.00066181 0.00132363\n",
      " 0.00066181 0.00132363 0.00132363 0.00066181 0.00066181 0.00132363\n",
      " 0.00132363 0.00132363 0.00132363 0.00066181 0.00132363 0.00066181\n",
      " 0.00066181 0.00066181 0.00066181 0.00132363 0.00132363 0.00066181\n",
      " 0.00132363 0.00132363 0.00066181 0.00132363 0.00066181 0.00132363\n",
      " 0.00132363 0.00132363 0.00132363 0.00066181 0.00132363 0.00066181\n",
      " 0.00132363 0.00132363 0.00066181 0.00132363 0.00132363 0.00132363\n",
      " 0.00132363 0.00066181 0.00066181 0.00066181 0.00132363 0.00066181\n",
      " 0.00066181 0.00132363 0.00132363 0.00066181 0.00066181 0.00132363\n",
      " 0.00066181 0.00132363 0.00132363 0.00066181 0.00066181 0.00132363\n",
      " 0.00066181 0.00066181 0.00066181 0.00132363 0.00066181 0.00066181\n",
      " 0.00132363 0.00132363 0.00066181 0.00132363 0.00132363 0.00066181\n",
      " 0.00066181 0.00132363 0.00066181 0.00066181 0.00132363 0.00132363\n",
      " 0.00066181 0.00066181 0.00132363 0.00132363 0.00132363 0.00132363\n",
      " 0.00066181 0.00066181 0.00066181 0.00132363 0.00132363 0.00066181\n",
      " 0.00066181 0.00132363 0.00132363 0.00066181 0.00132363 0.00132363\n",
      " 0.00066181 0.00132363 0.00066181 0.00132363 0.00132363 0.00066181\n",
      " 0.00132363 0.00066181 0.00132363 0.00132363 0.00066181 0.00066181\n",
      " 0.00066181 0.00066181 0.00132363 0.00066181 0.00066181 0.00132363\n",
      " 0.00132363 0.00066181 0.00066181 0.00066181 0.00132363 0.00066181\n",
      " 0.00066181 0.00066181 0.00132363 0.00066181 0.00066181 0.00066181\n",
      " 0.00066181 0.00132363 0.00066181 0.00066181 0.00132363 0.00132363\n",
      " 0.00132363 0.00066181 0.00132363 0.00132363 0.00132363 0.00132363\n",
      " 0.00066181 0.00066181 0.00066181 0.00132363 0.00066181 0.00132363\n",
      " 0.00066181 0.00066181 0.00066181 0.00132363 0.00132363 0.00066181\n",
      " 0.00066181 0.00066181 0.00132363 0.00132363 0.00132363 0.00132363\n",
      " 0.00066181 0.00066181 0.00132363 0.00132363 0.00132363 0.00132363\n",
      " 0.00132363 0.00132363 0.00066181 0.00132363 0.00066181 0.00066181\n",
      " 0.00132363 0.00066181 0.00066181 0.00066181 0.00066181 0.00066181\n",
      " 0.00066181 0.00132363 0.00066181 0.00066181 0.00132363 0.00066181\n",
      " 0.00066181 0.00132363 0.00132363 0.00066181 0.00132363 0.00066181\n",
      " 0.00132363 0.00132363 0.00132363 0.00132363 0.00132363 0.00066181\n",
      " 0.00066181 0.00132363 0.00066181 0.00066181 0.00132363 0.00132363\n",
      " 0.00066181 0.00066181 0.00132363 0.00132363 0.00066181 0.00066181\n",
      " 0.00132363 0.00066181 0.00132363 0.00132363 0.00132363 0.00132363\n",
      " 0.00066181 0.00132363 0.00066181 0.00066181 0.00132363 0.00066181\n",
      " 0.00132363 0.00066181 0.00132363 0.00066181 0.00132363 0.00132363\n",
      " 0.00066181 0.00132363 0.00066181 0.00066181 0.00066181 0.00066181\n",
      " 0.00132363 0.00066181 0.00132363 0.00066181 0.00066181 0.00066181\n",
      " 0.00132363 0.00066181 0.00066181 0.00066181 0.00066181 0.00132363\n",
      " 0.00066181 0.00132363 0.00066181 0.00066181 0.00066181 0.00132363\n",
      " 0.00066181 0.00132363 0.00132363 0.00066181 0.00132363 0.00132363\n",
      " 0.00132363 0.00132363 0.00066181 0.00066181 0.00066181 0.00132363\n",
      " 0.00132363 0.00066181 0.00132363 0.00066181 0.00066181 0.00066181\n",
      " 0.00066181 0.00132363 0.00066181 0.00132363 0.00132363 0.00132363\n",
      " 0.00132363 0.00132363 0.00132363 0.00066181 0.00066181 0.00066181\n",
      " 0.00132363 0.00066181 0.00066181 0.00132363 0.00066181 0.00132363\n",
      " 0.00066181 0.00132363 0.00066181 0.00066181 0.00132363 0.00132363\n",
      " 0.00132363 0.00132363 0.00132363 0.00066181 0.00066181 0.00066181\n",
      " 0.00066181 0.00066181 0.00066181 0.00066181 0.00066181 0.00066181\n",
      " 0.00132363 0.00132363 0.00132363 0.00132363 0.00132363 0.00066181\n",
      " 0.00132363 0.00132363 0.00066181 0.00132363 0.00132363 0.00066181\n",
      " 0.00066181 0.00132363 0.00066181 0.00066181 0.00132363 0.00066181\n",
      " 0.00066181 0.00066181 0.00066181 0.00132363 0.00066181 0.00066181\n",
      " 0.00132363 0.00132363 0.00132363 0.00066181 0.00132363 0.00132363\n",
      " 0.00066181 0.00066181 0.00066181 0.00132363 0.00066181 0.00066181\n",
      " 0.00066181 0.00066181 0.00132363 0.00132363 0.00132363 0.00066181\n",
      " 0.00066181 0.00066181 0.00132363 0.00132363 0.00132363 0.00066181\n",
      " 0.00132363 0.00066181 0.00132363 0.00132363 0.00066181 0.00132363\n",
      " 0.00132363 0.00132363 0.00132363 0.00132363 0.00066181 0.00066181\n",
      " 0.00066181 0.00132363 0.00132363 0.00132363 0.00066181 0.00066181\n",
      " 0.00066181 0.00066181 0.00132363 0.00066181 0.00066181 0.00066181\n",
      " 0.00132363 0.00066181 0.00066181 0.00132363 0.00132363 0.00132363\n",
      " 0.00132363 0.00066181 0.00066181 0.00132363 0.00132363 0.00132363\n",
      " 0.00132363 0.00066181 0.00066181 0.00066181 0.00132363 0.00132363\n",
      " 0.00066181 0.00132363 0.00066181 0.00132363 0.00132363 0.00066181\n",
      " 0.00132363 0.00132363 0.00066181 0.00132363 0.00132363 0.00066181\n",
      " 0.00066181 0.00132363 0.00132363 0.00132363 0.00066181 0.00132363\n",
      " 0.00066181 0.00066181 0.00132363 0.00132363 0.00066181 0.00066181\n",
      " 0.00132363 0.00132363 0.00132363 0.00132363 0.00066181 0.00066181\n",
      " 0.00132363 0.00132363 0.00066181 0.00066181 0.00066181 0.00132363\n",
      " 0.00132363 0.00132363 0.00132363 0.00066181 0.00132363 0.00066181\n",
      " 0.00066181 0.00066181 0.00132363 0.00132363 0.00132363 0.00132363\n",
      " 0.00132363 0.00066181 0.00066181 0.00132363 0.00132363 0.00066181\n",
      " 0.00066181 0.00132363 0.00066181 0.00132363 0.00132363 0.00132363\n",
      " 0.00066181 0.00066181 0.00132363 0.00132363 0.00132363 0.00132363\n",
      " 0.00066181 0.00132363 0.00132363 0.00066181 0.00132363 0.00066181\n",
      " 0.00066181 0.00066181 0.00132363 0.00132363 0.00066181 0.00132363\n",
      " 0.00132363 0.00132363 0.00132363 0.00066181 0.00066181 0.00132363\n",
      " 0.00132363 0.00132363 0.00066181 0.00066181 0.00132363 0.00066181\n",
      " 0.00066181 0.00066181 0.00066181 0.00132363 0.00066181 0.00066181\n",
      " 0.00132363 0.00132363 0.00066181 0.00066181 0.00066181 0.00066181\n",
      " 0.00066181 0.00132363 0.00066181 0.00066181 0.00132363 0.00132363\n",
      " 0.00132363 0.00066181 0.00066181 0.00066181 0.00132363 0.00066181\n",
      " 0.00132363 0.00132363 0.00132363 0.00066181 0.00132363 0.00066181\n",
      " 0.00132363 0.00066181 0.00066181 0.00132363 0.00066181 0.00066181\n",
      " 0.00132363 0.00132363 0.00066181 0.00066181 0.00132363 0.00132363\n",
      " 0.00066181 0.00132363 0.00132363 0.00066181 0.00066181 0.00132363\n",
      " 0.00066181 0.00132363 0.00132363 0.00132363 0.00066181 0.00066181\n",
      " 0.00066181 0.00066181 0.00132363 0.00066181 0.00132363 0.00066181\n",
      " 0.00066181 0.00132363 0.00132363 0.00132363]\n"
     ]
    }
   ],
   "source": [
    "classifier = DecisionTreeClassifier(max_depth=1, random_state=1)\n",
    "classifier.fit(X=train_set, y=train_labels)\n",
    "alphas = []\n",
    "classifiers = []\n",
    "for iteration in range(number_of_iterations):\n",
    "    model = train_model(classifier, weights)\n",
    "    weights = set_new_weights(model)\n",
    "    classifiers.append(model)\n",
    "\n",
    "print(weights)\n",
    "\n",
    "\n",
    "validate_x, validate_label = generate_data(1, dimension, labels)"
   ]
  },
  {
   "cell_type": "markdown",
   "metadata": {},
   "source": [
    "Set the validation data set:"
   ]
  },
  {
   "cell_type": "code",
   "execution_count": 166,
   "metadata": {},
   "outputs": [],
   "source": [
    "validate_x, validate_label = generate_data(1, dimension, labels)"
   ]
  },
  {
   "cell_type": "markdown",
   "metadata": {},
   "source": [
    "Fill the prediction code:"
   ]
  },
  {
   "cell_type": "code",
   "execution_count": null,
   "metadata": {},
   "outputs": [],
   "source": []
  },
  {
   "cell_type": "code",
   "execution_count": 169,
   "metadata": {},
   "outputs": [],
   "source": [
    "def get_prediction(x):\n",
    "    predictions = []\n",
    "    for i in range(len(classifiers)):\n",
    "        predicted = classifiers[i].predict(x)\n",
    "        predictions.append(int(predicted))\n",
    "    counts = np.bincount(predictions)\n",
    "    print(predictions) #line NOT necessary, just for checking\n",
    "    return np.argmax(counts)"
   ]
  },
  {
   "cell_type": "markdown",
   "metadata": {},
   "source": [
    "Test it:"
   ]
  },
  {
   "cell_type": "code",
   "execution_count": 170,
   "metadata": {},
   "outputs": [
    {
     "name": "stdout",
     "output_type": "stream",
     "text": [
      "[1, 1, 1, 1, 1, 1, 1, 1, 1, 1]\n",
      "1\n"
     ]
    }
   ],
   "source": [
    "prediction = get_prediction(validate_x)\n",
    "\n",
    "print(prediction)"
   ]
  },
  {
   "cell_type": "code",
   "execution_count": null,
   "metadata": {},
   "outputs": [],
   "source": []
  },
  {
   "cell_type": "code",
   "execution_count": null,
   "metadata": {},
   "outputs": [],
   "source": []
  }
 ],
 "metadata": {
  "kernelspec": {
   "display_name": "Python 3",
   "language": "python",
   "name": "python3"
  },
  "language_info": {
   "codemirror_mode": {
    "name": "ipython",
    "version": 3
   },
   "file_extension": ".py",
   "mimetype": "text/x-python",
   "name": "python",
   "nbconvert_exporter": "python",
   "pygments_lexer": "ipython3",
   "version": "3.7.3"
  }
 },
 "nbformat": 4,
 "nbformat_minor": 4
}
